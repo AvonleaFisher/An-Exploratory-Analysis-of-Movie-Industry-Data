{
 "cells": [
  {
   "cell_type": "markdown",
   "metadata": {},
   "source": [
    "# An Exploratory Analysis of Movie Industry Data from IMBD and Rotten Tomatoes\n",
    "\n",
    "<b>Author:</b> Avonlea Fisher\n",
    "\n",
    "<b>Blog post URL:</b> https://medium.com/@avfisher/an-exploratory-analysis-of-movie-industry-data-from-imbd-and-rotten-tomatoes-fcbf0bf6924c"
   ]
  },
  {
   "cell_type": "markdown",
   "metadata": {},
   "source": [
    "# Introduction\n",
    "\n",
    "This project explores movie industry data to determine which types of movies have been most successful. The hypothetical context for this analysis is that Microsoft is interested in creating and selling original video content. The company has hired a team of analysts to inform their decisions about the types of films it should be creating. The project will consist of an analytical component, visualizations, and a presentation of the findings for non-technical audiences."
   ]
  },
  {
   "cell_type": "markdown",
   "metadata": {},
   "source": [
    "# Questions\n",
    "\n",
    "The analysis will aim to address three questions about the movie industry:\n",
    "1. What types of movies (genre and content rating) are the most popular?\n",
    "2. What are the highest-grossing movie genres?\n",
    "3. What is the ideal range for movie runtimes, in terms of profitability? "
   ]
  },
  {
   "cell_type": "markdown",
   "metadata": {},
   "source": [
    "# Data Description\n",
    "\n",
    "### IMBD\n",
    "The analysis explores a merged form of two IMBD datasets: one which contains data on domestic and foreign grossses, and one with data on runtimes and genres. \n",
    "\n",
    "### Rotten Tomatoes\n",
    "To address the question about movie popularity, the IMBD data is supplemented with two datasets from Rotten Tomatoes, which contain data on movie ratings and reviews."
   ]
  },
  {
   "cell_type": "markdown",
   "metadata": {},
   "source": [
    "# Data Cleaning"
   ]
  },
  {
   "cell_type": "markdown",
   "metadata": {},
   "source": [
    "## IMBD Data \n",
    "We will use <b>pandas</b> to read, clean, and format the IMBD data into a workable dataframe. Let's read and preview the movie gross dataset:"
   ]
  },
  {
   "cell_type": "code",
   "execution_count": 1,
   "metadata": {},
   "outputs": [
    {
     "data": {
      "text/html": [
       "<div>\n",
       "<style scoped>\n",
       "    .dataframe tbody tr th:only-of-type {\n",
       "        vertical-align: middle;\n",
       "    }\n",
       "\n",
       "    .dataframe tbody tr th {\n",
       "        vertical-align: top;\n",
       "    }\n",
       "\n",
       "    .dataframe thead th {\n",
       "        text-align: right;\n",
       "    }\n",
       "</style>\n",
       "<table border=\"1\" class=\"dataframe\">\n",
       "  <thead>\n",
       "    <tr style=\"text-align: right;\">\n",
       "      <th></th>\n",
       "      <th>title</th>\n",
       "      <th>studio</th>\n",
       "      <th>domestic_gross</th>\n",
       "      <th>foreign_gross</th>\n",
       "      <th>year</th>\n",
       "    </tr>\n",
       "  </thead>\n",
       "  <tbody>\n",
       "    <tr>\n",
       "      <th>0</th>\n",
       "      <td>Toy Story 3</td>\n",
       "      <td>BV</td>\n",
       "      <td>415000000.0</td>\n",
       "      <td>652000000</td>\n",
       "      <td>2010</td>\n",
       "    </tr>\n",
       "    <tr>\n",
       "      <th>1</th>\n",
       "      <td>Alice in Wonderland (2010)</td>\n",
       "      <td>BV</td>\n",
       "      <td>334200000.0</td>\n",
       "      <td>691300000</td>\n",
       "      <td>2010</td>\n",
       "    </tr>\n",
       "    <tr>\n",
       "      <th>2</th>\n",
       "      <td>Harry Potter and the Deathly Hallows Part 1</td>\n",
       "      <td>WB</td>\n",
       "      <td>296000000.0</td>\n",
       "      <td>664300000</td>\n",
       "      <td>2010</td>\n",
       "    </tr>\n",
       "    <tr>\n",
       "      <th>3</th>\n",
       "      <td>Inception</td>\n",
       "      <td>WB</td>\n",
       "      <td>292600000.0</td>\n",
       "      <td>535700000</td>\n",
       "      <td>2010</td>\n",
       "    </tr>\n",
       "    <tr>\n",
       "      <th>4</th>\n",
       "      <td>Shrek Forever After</td>\n",
       "      <td>P/DW</td>\n",
       "      <td>238700000.0</td>\n",
       "      <td>513900000</td>\n",
       "      <td>2010</td>\n",
       "    </tr>\n",
       "  </tbody>\n",
       "</table>\n",
       "</div>"
      ],
      "text/plain": [
       "                                         title studio  domestic_gross  \\\n",
       "0                                  Toy Story 3     BV     415000000.0   \n",
       "1                   Alice in Wonderland (2010)     BV     334200000.0   \n",
       "2  Harry Potter and the Deathly Hallows Part 1     WB     296000000.0   \n",
       "3                                    Inception     WB     292600000.0   \n",
       "4                          Shrek Forever After   P/DW     238700000.0   \n",
       "\n",
       "  foreign_gross  year  \n",
       "0     652000000  2010  \n",
       "1     691300000  2010  \n",
       "2     664300000  2010  \n",
       "3     535700000  2010  \n",
       "4     513900000  2010  "
      ]
     },
     "execution_count": 1,
     "metadata": {},
     "output_type": "execute_result"
    }
   ],
   "source": [
    "import pandas as pd\n",
    "Movie_Gross = pd.read_csv('bom.movie_gross.csv.gz', nrows=100000, compression='gzip',\n",
    "                   error_bad_lines=False)\n",
    "Movie_Gross.head()"
   ]
  },
  {
   "cell_type": "markdown",
   "metadata": {},
   "source": [
    "Now let's preview the other dataset:"
   ]
  },
  {
   "cell_type": "code",
   "execution_count": 2,
   "metadata": {},
   "outputs": [
    {
     "data": {
      "text/html": [
       "<div>\n",
       "<style scoped>\n",
       "    .dataframe tbody tr th:only-of-type {\n",
       "        vertical-align: middle;\n",
       "    }\n",
       "\n",
       "    .dataframe tbody tr th {\n",
       "        vertical-align: top;\n",
       "    }\n",
       "\n",
       "    .dataframe thead th {\n",
       "        text-align: right;\n",
       "    }\n",
       "</style>\n",
       "<table border=\"1\" class=\"dataframe\">\n",
       "  <thead>\n",
       "    <tr style=\"text-align: right;\">\n",
       "      <th></th>\n",
       "      <th>tconst</th>\n",
       "      <th>primary_title</th>\n",
       "      <th>original_title</th>\n",
       "      <th>start_year</th>\n",
       "      <th>runtime_minutes</th>\n",
       "      <th>genres</th>\n",
       "    </tr>\n",
       "  </thead>\n",
       "  <tbody>\n",
       "    <tr>\n",
       "      <th>0</th>\n",
       "      <td>tt0063540</td>\n",
       "      <td>Sunghursh</td>\n",
       "      <td>Sunghursh</td>\n",
       "      <td>2013</td>\n",
       "      <td>175.0</td>\n",
       "      <td>Action,Crime,Drama</td>\n",
       "    </tr>\n",
       "    <tr>\n",
       "      <th>1</th>\n",
       "      <td>tt0066787</td>\n",
       "      <td>One Day Before the Rainy Season</td>\n",
       "      <td>Ashad Ka Ek Din</td>\n",
       "      <td>2019</td>\n",
       "      <td>114.0</td>\n",
       "      <td>Biography,Drama</td>\n",
       "    </tr>\n",
       "    <tr>\n",
       "      <th>2</th>\n",
       "      <td>tt0069049</td>\n",
       "      <td>The Other Side of the Wind</td>\n",
       "      <td>The Other Side of the Wind</td>\n",
       "      <td>2018</td>\n",
       "      <td>122.0</td>\n",
       "      <td>Drama</td>\n",
       "    </tr>\n",
       "    <tr>\n",
       "      <th>3</th>\n",
       "      <td>tt0069204</td>\n",
       "      <td>Sabse Bada Sukh</td>\n",
       "      <td>Sabse Bada Sukh</td>\n",
       "      <td>2018</td>\n",
       "      <td>NaN</td>\n",
       "      <td>Comedy,Drama</td>\n",
       "    </tr>\n",
       "    <tr>\n",
       "      <th>4</th>\n",
       "      <td>tt0100275</td>\n",
       "      <td>The Wandering Soap Opera</td>\n",
       "      <td>La Telenovela Errante</td>\n",
       "      <td>2017</td>\n",
       "      <td>80.0</td>\n",
       "      <td>Comedy,Drama,Fantasy</td>\n",
       "    </tr>\n",
       "  </tbody>\n",
       "</table>\n",
       "</div>"
      ],
      "text/plain": [
       "      tconst                    primary_title              original_title  \\\n",
       "0  tt0063540                        Sunghursh                   Sunghursh   \n",
       "1  tt0066787  One Day Before the Rainy Season             Ashad Ka Ek Din   \n",
       "2  tt0069049       The Other Side of the Wind  The Other Side of the Wind   \n",
       "3  tt0069204                  Sabse Bada Sukh             Sabse Bada Sukh   \n",
       "4  tt0100275         The Wandering Soap Opera       La Telenovela Errante   \n",
       "\n",
       "   start_year  runtime_minutes                genres  \n",
       "0        2013            175.0    Action,Crime,Drama  \n",
       "1        2019            114.0       Biography,Drama  \n",
       "2        2018            122.0                 Drama  \n",
       "3        2018              NaN          Comedy,Drama  \n",
       "4        2017             80.0  Comedy,Drama,Fantasy  "
      ]
     },
     "execution_count": 2,
     "metadata": {},
     "output_type": "execute_result"
    }
   ],
   "source": [
    "IMBD_Basics = pd.read_csv('imdb.title.basics.csv.gz', nrows=1000000, compression='gzip',error_bad_lines=False)\n",
    "IMBD_Basics.head()"
   ]
  },
  {
   "cell_type": "markdown",
   "metadata": {},
   "source": [
    "Both datasets have a column for the name of individual movies. We can start by merging the datasets along this column, and later account for any set of different movies that share the same title. Below, we generate a list of common titles by looping through unique titles in one dataset and finding matches in the other. \n",
    "\n",
    "Note: since the purpose of this step is only to show that there are many common titles, we're only looping through the first 1000 rows. Looping through the whole dataset would take a long time!"
   ]
  },
  {
   "cell_type": "code",
   "execution_count": 3,
   "metadata": {
    "scrolled": false
   },
   "outputs": [],
   "source": [
    "Common_titles = []\n",
    "for title in IMBD_Basics['primary_title'][0:1000].unique(): \n",
    "    if title in Movie_Gross['title'][0:1000].unique():\n",
    "        Common_titles.append(title)"
   ]
  },
  {
   "cell_type": "code",
   "execution_count": 4,
   "metadata": {},
   "outputs": [
    {
     "name": "stdout",
     "output_type": "stream",
     "text": [
      "['On the Road', 'The Rum Diary', 'The Three Stooges', 'Tangled', 'John Carter', 'Cowboys & Aliens', 'Dinner for Schmucks', 'The A-Team', 'The Possession', 'Real Steel']\n"
     ]
    },
    {
     "data": {
      "text/plain": [
       "90"
      ]
     },
     "execution_count": 4,
     "metadata": {},
     "output_type": "execute_result"
    }
   ],
   "source": [
    "print(Common_titles[0:10])\n",
    "len(Common_titles)"
   ]
  },
  {
   "cell_type": "markdown",
   "metadata": {},
   "source": [
    "The above output shows us that merging on common titles would still leave us with a large number of datapoints for our analysis. We'll use <code>df.merge</code> to join the datasets along rows with matching titles."
   ]
  },
  {
   "cell_type": "code",
   "execution_count": 5,
   "metadata": {},
   "outputs": [
    {
     "data": {
      "text/html": [
       "<div>\n",
       "<style scoped>\n",
       "    .dataframe tbody tr th:only-of-type {\n",
       "        vertical-align: middle;\n",
       "    }\n",
       "\n",
       "    .dataframe tbody tr th {\n",
       "        vertical-align: top;\n",
       "    }\n",
       "\n",
       "    .dataframe thead th {\n",
       "        text-align: right;\n",
       "    }\n",
       "</style>\n",
       "<table border=\"1\" class=\"dataframe\">\n",
       "  <thead>\n",
       "    <tr style=\"text-align: right;\">\n",
       "      <th></th>\n",
       "      <th>title</th>\n",
       "      <th>studio</th>\n",
       "      <th>domestic_gross</th>\n",
       "      <th>foreign_gross</th>\n",
       "      <th>year</th>\n",
       "      <th>tconst</th>\n",
       "      <th>primary_title</th>\n",
       "      <th>original_title</th>\n",
       "      <th>start_year</th>\n",
       "      <th>runtime_minutes</th>\n",
       "      <th>genres</th>\n",
       "    </tr>\n",
       "  </thead>\n",
       "  <tbody>\n",
       "    <tr>\n",
       "      <th>0</th>\n",
       "      <td>Toy Story 3</td>\n",
       "      <td>BV</td>\n",
       "      <td>415000000.0</td>\n",
       "      <td>652000000</td>\n",
       "      <td>2010</td>\n",
       "      <td>tt0435761</td>\n",
       "      <td>Toy Story 3</td>\n",
       "      <td>Toy Story 3</td>\n",
       "      <td>2010</td>\n",
       "      <td>103.0</td>\n",
       "      <td>Adventure,Animation,Comedy</td>\n",
       "    </tr>\n",
       "    <tr>\n",
       "      <th>1</th>\n",
       "      <td>Inception</td>\n",
       "      <td>WB</td>\n",
       "      <td>292600000.0</td>\n",
       "      <td>535700000</td>\n",
       "      <td>2010</td>\n",
       "      <td>tt1375666</td>\n",
       "      <td>Inception</td>\n",
       "      <td>Inception</td>\n",
       "      <td>2010</td>\n",
       "      <td>148.0</td>\n",
       "      <td>Action,Adventure,Sci-Fi</td>\n",
       "    </tr>\n",
       "    <tr>\n",
       "      <th>2</th>\n",
       "      <td>Shrek Forever After</td>\n",
       "      <td>P/DW</td>\n",
       "      <td>238700000.0</td>\n",
       "      <td>513900000</td>\n",
       "      <td>2010</td>\n",
       "      <td>tt0892791</td>\n",
       "      <td>Shrek Forever After</td>\n",
       "      <td>Shrek Forever After</td>\n",
       "      <td>2010</td>\n",
       "      <td>93.0</td>\n",
       "      <td>Adventure,Animation,Comedy</td>\n",
       "    </tr>\n",
       "    <tr>\n",
       "      <th>3</th>\n",
       "      <td>The Twilight Saga: Eclipse</td>\n",
       "      <td>Sum.</td>\n",
       "      <td>300500000.0</td>\n",
       "      <td>398000000</td>\n",
       "      <td>2010</td>\n",
       "      <td>tt1325004</td>\n",
       "      <td>The Twilight Saga: Eclipse</td>\n",
       "      <td>The Twilight Saga: Eclipse</td>\n",
       "      <td>2010</td>\n",
       "      <td>124.0</td>\n",
       "      <td>Adventure,Drama,Fantasy</td>\n",
       "    </tr>\n",
       "    <tr>\n",
       "      <th>4</th>\n",
       "      <td>Iron Man 2</td>\n",
       "      <td>Par.</td>\n",
       "      <td>312400000.0</td>\n",
       "      <td>311500000</td>\n",
       "      <td>2010</td>\n",
       "      <td>tt1228705</td>\n",
       "      <td>Iron Man 2</td>\n",
       "      <td>Iron Man 2</td>\n",
       "      <td>2010</td>\n",
       "      <td>124.0</td>\n",
       "      <td>Action,Adventure,Sci-Fi</td>\n",
       "    </tr>\n",
       "  </tbody>\n",
       "</table>\n",
       "</div>"
      ],
      "text/plain": [
       "                        title studio  domestic_gross foreign_gross  year  \\\n",
       "0                 Toy Story 3     BV     415000000.0     652000000  2010   \n",
       "1                   Inception     WB     292600000.0     535700000  2010   \n",
       "2         Shrek Forever After   P/DW     238700000.0     513900000  2010   \n",
       "3  The Twilight Saga: Eclipse   Sum.     300500000.0     398000000  2010   \n",
       "4                  Iron Man 2   Par.     312400000.0     311500000  2010   \n",
       "\n",
       "      tconst               primary_title              original_title  \\\n",
       "0  tt0435761                 Toy Story 3                 Toy Story 3   \n",
       "1  tt1375666                   Inception                   Inception   \n",
       "2  tt0892791         Shrek Forever After         Shrek Forever After   \n",
       "3  tt1325004  The Twilight Saga: Eclipse  The Twilight Saga: Eclipse   \n",
       "4  tt1228705                  Iron Man 2                  Iron Man 2   \n",
       "\n",
       "   start_year  runtime_minutes                      genres  \n",
       "0        2010            103.0  Adventure,Animation,Comedy  \n",
       "1        2010            148.0     Action,Adventure,Sci-Fi  \n",
       "2        2010             93.0  Adventure,Animation,Comedy  \n",
       "3        2010            124.0     Adventure,Drama,Fantasy  \n",
       "4        2010            124.0     Action,Adventure,Sci-Fi  "
      ]
     },
     "execution_count": 5,
     "metadata": {},
     "output_type": "execute_result"
    }
   ],
   "source": [
    "IMBD_df = Movie_Gross.merge(IMBD_Basics, how='inner', left_on='title', right_on='primary_title')\n",
    "IMBD_df.head()"
   ]
  },
  {
   "cell_type": "markdown",
   "metadata": {},
   "source": [
    "Now we can drop some of the superfluous columns that won't be relevant for our analysis."
   ]
  },
  {
   "cell_type": "code",
   "execution_count": 6,
   "metadata": {},
   "outputs": [],
   "source": [
    "IMBD_df = IMBD_df.drop(columns=['primary_title', 'original_title', 'tconst', 'studio'])"
   ]
  },
  {
   "cell_type": "markdown",
   "metadata": {},
   "source": [
    "By inspecting the first 40 rows of the dataframe, we find that there are some repeated titles. The 'year' and 'start_year' columns for many of these repeats have different values, which suggests that many repeats are different movies have the same name. We want the final dataframe to contain only those rows with values that all correspond to the same movie, so our next step is to filter out movies with mismatched years."
   ]
  },
  {
   "cell_type": "code",
   "execution_count": 7,
   "metadata": {},
   "outputs": [
    {
     "data": {
      "text/html": [
       "<div>\n",
       "<style scoped>\n",
       "    .dataframe tbody tr th:only-of-type {\n",
       "        vertical-align: middle;\n",
       "    }\n",
       "\n",
       "    .dataframe tbody tr th {\n",
       "        vertical-align: top;\n",
       "    }\n",
       "\n",
       "    .dataframe thead th {\n",
       "        text-align: right;\n",
       "    }\n",
       "</style>\n",
       "<table border=\"1\" class=\"dataframe\">\n",
       "  <thead>\n",
       "    <tr style=\"text-align: right;\">\n",
       "      <th></th>\n",
       "      <th>title</th>\n",
       "      <th>domestic_gross</th>\n",
       "      <th>foreign_gross</th>\n",
       "      <th>year</th>\n",
       "      <th>start_year</th>\n",
       "      <th>runtime_minutes</th>\n",
       "      <th>genres</th>\n",
       "    </tr>\n",
       "  </thead>\n",
       "  <tbody>\n",
       "    <tr>\n",
       "      <th>0</th>\n",
       "      <td>Toy Story 3</td>\n",
       "      <td>415000000.0</td>\n",
       "      <td>652000000</td>\n",
       "      <td>2010</td>\n",
       "      <td>2010</td>\n",
       "      <td>103.0</td>\n",
       "      <td>Adventure,Animation,Comedy</td>\n",
       "    </tr>\n",
       "    <tr>\n",
       "      <th>1</th>\n",
       "      <td>Inception</td>\n",
       "      <td>292600000.0</td>\n",
       "      <td>535700000</td>\n",
       "      <td>2010</td>\n",
       "      <td>2010</td>\n",
       "      <td>148.0</td>\n",
       "      <td>Action,Adventure,Sci-Fi</td>\n",
       "    </tr>\n",
       "    <tr>\n",
       "      <th>2</th>\n",
       "      <td>Shrek Forever After</td>\n",
       "      <td>238700000.0</td>\n",
       "      <td>513900000</td>\n",
       "      <td>2010</td>\n",
       "      <td>2010</td>\n",
       "      <td>93.0</td>\n",
       "      <td>Adventure,Animation,Comedy</td>\n",
       "    </tr>\n",
       "    <tr>\n",
       "      <th>3</th>\n",
       "      <td>The Twilight Saga: Eclipse</td>\n",
       "      <td>300500000.0</td>\n",
       "      <td>398000000</td>\n",
       "      <td>2010</td>\n",
       "      <td>2010</td>\n",
       "      <td>124.0</td>\n",
       "      <td>Adventure,Drama,Fantasy</td>\n",
       "    </tr>\n",
       "    <tr>\n",
       "      <th>4</th>\n",
       "      <td>Iron Man 2</td>\n",
       "      <td>312400000.0</td>\n",
       "      <td>311500000</td>\n",
       "      <td>2010</td>\n",
       "      <td>2010</td>\n",
       "      <td>124.0</td>\n",
       "      <td>Action,Adventure,Sci-Fi</td>\n",
       "    </tr>\n",
       "    <tr>\n",
       "      <th>5</th>\n",
       "      <td>Tangled</td>\n",
       "      <td>200800000.0</td>\n",
       "      <td>391000000</td>\n",
       "      <td>2010</td>\n",
       "      <td>2010</td>\n",
       "      <td>100.0</td>\n",
       "      <td>Adventure,Animation,Comedy</td>\n",
       "    </tr>\n",
       "    <tr>\n",
       "      <th>6</th>\n",
       "      <td>Despicable Me</td>\n",
       "      <td>251500000.0</td>\n",
       "      <td>291600000</td>\n",
       "      <td>2010</td>\n",
       "      <td>2010</td>\n",
       "      <td>95.0</td>\n",
       "      <td>Animation,Comedy,Family</td>\n",
       "    </tr>\n",
       "    <tr>\n",
       "      <th>7</th>\n",
       "      <td>How to Train Your Dragon</td>\n",
       "      <td>217600000.0</td>\n",
       "      <td>277300000</td>\n",
       "      <td>2010</td>\n",
       "      <td>2010</td>\n",
       "      <td>98.0</td>\n",
       "      <td>Action,Adventure,Animation</td>\n",
       "    </tr>\n",
       "    <tr>\n",
       "      <th>8</th>\n",
       "      <td>The Chronicles of Narnia: The Voyage of the Da...</td>\n",
       "      <td>104400000.0</td>\n",
       "      <td>311300000</td>\n",
       "      <td>2010</td>\n",
       "      <td>2010</td>\n",
       "      <td>113.0</td>\n",
       "      <td>Adventure,Family,Fantasy</td>\n",
       "    </tr>\n",
       "    <tr>\n",
       "      <th>9</th>\n",
       "      <td>The King's Speech</td>\n",
       "      <td>135500000.0</td>\n",
       "      <td>275400000</td>\n",
       "      <td>2010</td>\n",
       "      <td>2010</td>\n",
       "      <td>118.0</td>\n",
       "      <td>Biography,Drama,History</td>\n",
       "    </tr>\n",
       "    <tr>\n",
       "      <th>10</th>\n",
       "      <td>The Karate Kid</td>\n",
       "      <td>176600000.0</td>\n",
       "      <td>182500000</td>\n",
       "      <td>2010</td>\n",
       "      <td>2010</td>\n",
       "      <td>140.0</td>\n",
       "      <td>Action,Drama,Family</td>\n",
       "    </tr>\n",
       "    <tr>\n",
       "      <th>11</th>\n",
       "      <td>Prince of Persia: The Sands of Time</td>\n",
       "      <td>90800000.0</td>\n",
       "      <td>245600000</td>\n",
       "      <td>2010</td>\n",
       "      <td>2010</td>\n",
       "      <td>116.0</td>\n",
       "      <td>Action,Adventure,Fantasy</td>\n",
       "    </tr>\n",
       "    <tr>\n",
       "      <th>12</th>\n",
       "      <td>Black Swan</td>\n",
       "      <td>107000000.0</td>\n",
       "      <td>222400000</td>\n",
       "      <td>2010</td>\n",
       "      <td>2010</td>\n",
       "      <td>108.0</td>\n",
       "      <td>Drama,Thriller</td>\n",
       "    </tr>\n",
       "    <tr>\n",
       "      <th>13</th>\n",
       "      <td>Megamind</td>\n",
       "      <td>148400000.0</td>\n",
       "      <td>173500000</td>\n",
       "      <td>2010</td>\n",
       "      <td>2010</td>\n",
       "      <td>95.0</td>\n",
       "      <td>Action,Animation,Comedy</td>\n",
       "    </tr>\n",
       "    <tr>\n",
       "      <th>14</th>\n",
       "      <td>Robin Hood</td>\n",
       "      <td>105300000.0</td>\n",
       "      <td>216400000</td>\n",
       "      <td>2010</td>\n",
       "      <td>2010</td>\n",
       "      <td>140.0</td>\n",
       "      <td>Action,Adventure,Drama</td>\n",
       "    </tr>\n",
       "    <tr>\n",
       "      <th>15</th>\n",
       "      <td>Robin Hood</td>\n",
       "      <td>105300000.0</td>\n",
       "      <td>216400000</td>\n",
       "      <td>2010</td>\n",
       "      <td>2013</td>\n",
       "      <td>92.0</td>\n",
       "      <td>Action,Drama</td>\n",
       "    </tr>\n",
       "    <tr>\n",
       "      <th>16</th>\n",
       "      <td>Robin Hood</td>\n",
       "      <td>105300000.0</td>\n",
       "      <td>216400000</td>\n",
       "      <td>2010</td>\n",
       "      <td>2018</td>\n",
       "      <td>116.0</td>\n",
       "      <td>Action,Adventure,Thriller</td>\n",
       "    </tr>\n",
       "    <tr>\n",
       "      <th>17</th>\n",
       "      <td>Robin Hood</td>\n",
       "      <td>105300000.0</td>\n",
       "      <td>216400000</td>\n",
       "      <td>2010</td>\n",
       "      <td>2018</td>\n",
       "      <td>NaN</td>\n",
       "      <td>NaN</td>\n",
       "    </tr>\n",
       "    <tr>\n",
       "      <th>18</th>\n",
       "      <td>Robin Hood</td>\n",
       "      <td>105300000.0</td>\n",
       "      <td>216400000</td>\n",
       "      <td>2010</td>\n",
       "      <td>2017</td>\n",
       "      <td>60.0</td>\n",
       "      <td>Action,Adventure,History</td>\n",
       "    </tr>\n",
       "    <tr>\n",
       "      <th>19</th>\n",
       "      <td>The Last Airbender</td>\n",
       "      <td>131800000.0</td>\n",
       "      <td>187900000</td>\n",
       "      <td>2010</td>\n",
       "      <td>2010</td>\n",
       "      <td>103.0</td>\n",
       "      <td>Action,Adventure,Family</td>\n",
       "    </tr>\n",
       "    <tr>\n",
       "      <th>20</th>\n",
       "      <td>Little Fockers</td>\n",
       "      <td>148400000.0</td>\n",
       "      <td>162200000</td>\n",
       "      <td>2010</td>\n",
       "      <td>2010</td>\n",
       "      <td>98.0</td>\n",
       "      <td>Comedy,Romance</td>\n",
       "    </tr>\n",
       "    <tr>\n",
       "      <th>21</th>\n",
       "      <td>Resident Evil: Afterlife</td>\n",
       "      <td>60100000.0</td>\n",
       "      <td>240100000</td>\n",
       "      <td>2010</td>\n",
       "      <td>2010</td>\n",
       "      <td>96.0</td>\n",
       "      <td>Action,Adventure,Horror</td>\n",
       "    </tr>\n",
       "    <tr>\n",
       "      <th>22</th>\n",
       "      <td>Shutter Island</td>\n",
       "      <td>128000000.0</td>\n",
       "      <td>166800000</td>\n",
       "      <td>2010</td>\n",
       "      <td>2010</td>\n",
       "      <td>138.0</td>\n",
       "      <td>Mystery,Thriller</td>\n",
       "    </tr>\n",
       "    <tr>\n",
       "      <th>23</th>\n",
       "      <td>Salt</td>\n",
       "      <td>118300000.0</td>\n",
       "      <td>175200000</td>\n",
       "      <td>2010</td>\n",
       "      <td>2010</td>\n",
       "      <td>100.0</td>\n",
       "      <td>Action,Mystery,Thriller</td>\n",
       "    </tr>\n",
       "    <tr>\n",
       "      <th>24</th>\n",
       "      <td>Sex and the City 2</td>\n",
       "      <td>95300000.0</td>\n",
       "      <td>193000000</td>\n",
       "      <td>2010</td>\n",
       "      <td>2010</td>\n",
       "      <td>146.0</td>\n",
       "      <td>Comedy,Drama,Romance</td>\n",
       "    </tr>\n",
       "    <tr>\n",
       "      <th>25</th>\n",
       "      <td>The Tourist</td>\n",
       "      <td>67600000.0</td>\n",
       "      <td>210700000</td>\n",
       "      <td>2010</td>\n",
       "      <td>2010</td>\n",
       "      <td>103.0</td>\n",
       "      <td>Action,Adventure,Thriller</td>\n",
       "    </tr>\n",
       "    <tr>\n",
       "      <th>26</th>\n",
       "      <td>The Expendables</td>\n",
       "      <td>103100000.0</td>\n",
       "      <td>171400000</td>\n",
       "      <td>2010</td>\n",
       "      <td>2010</td>\n",
       "      <td>103.0</td>\n",
       "      <td>Action,Adventure,Thriller</td>\n",
       "    </tr>\n",
       "    <tr>\n",
       "      <th>27</th>\n",
       "      <td>Grown Ups</td>\n",
       "      <td>162000000.0</td>\n",
       "      <td>109400000</td>\n",
       "      <td>2010</td>\n",
       "      <td>2010</td>\n",
       "      <td>102.0</td>\n",
       "      <td>Comedy</td>\n",
       "    </tr>\n",
       "    <tr>\n",
       "      <th>28</th>\n",
       "      <td>True Grit</td>\n",
       "      <td>171200000.0</td>\n",
       "      <td>81000000</td>\n",
       "      <td>2010</td>\n",
       "      <td>2010</td>\n",
       "      <td>110.0</td>\n",
       "      <td>Adventure,Drama,Western</td>\n",
       "    </tr>\n",
       "    <tr>\n",
       "      <th>29</th>\n",
       "      <td>Gulliver's Travels</td>\n",
       "      <td>42800000.0</td>\n",
       "      <td>194600000</td>\n",
       "      <td>2010</td>\n",
       "      <td>2010</td>\n",
       "      <td>85.0</td>\n",
       "      <td>Adventure,Comedy,Family</td>\n",
       "    </tr>\n",
       "    <tr>\n",
       "      <th>30</th>\n",
       "      <td>The Social Network</td>\n",
       "      <td>97000000.0</td>\n",
       "      <td>128000000</td>\n",
       "      <td>2010</td>\n",
       "      <td>2010</td>\n",
       "      <td>120.0</td>\n",
       "      <td>Biography,Drama</td>\n",
       "    </tr>\n",
       "    <tr>\n",
       "      <th>31</th>\n",
       "      <td>Valentine's Day</td>\n",
       "      <td>110500000.0</td>\n",
       "      <td>106000000</td>\n",
       "      <td>2010</td>\n",
       "      <td>2010</td>\n",
       "      <td>125.0</td>\n",
       "      <td>Comedy,Romance</td>\n",
       "    </tr>\n",
       "    <tr>\n",
       "      <th>32</th>\n",
       "      <td>The Sorcerer's Apprentice</td>\n",
       "      <td>63200000.0</td>\n",
       "      <td>152100000</td>\n",
       "      <td>2010</td>\n",
       "      <td>2010</td>\n",
       "      <td>109.0</td>\n",
       "      <td>Action,Adventure,Family</td>\n",
       "    </tr>\n",
       "    <tr>\n",
       "      <th>33</th>\n",
       "      <td>Due Date</td>\n",
       "      <td>100500000.0</td>\n",
       "      <td>111200000</td>\n",
       "      <td>2010</td>\n",
       "      <td>2010</td>\n",
       "      <td>95.0</td>\n",
       "      <td>Adventure,Comedy</td>\n",
       "    </tr>\n",
       "    <tr>\n",
       "      <th>34</th>\n",
       "      <td>Eat Pray Love</td>\n",
       "      <td>80600000.0</td>\n",
       "      <td>124000000</td>\n",
       "      <td>2010</td>\n",
       "      <td>2010</td>\n",
       "      <td>133.0</td>\n",
       "      <td>Drama,Romance</td>\n",
       "    </tr>\n",
       "    <tr>\n",
       "      <th>35</th>\n",
       "      <td>Yogi Bear</td>\n",
       "      <td>100200000.0</td>\n",
       "      <td>101300000</td>\n",
       "      <td>2010</td>\n",
       "      <td>2010</td>\n",
       "      <td>80.0</td>\n",
       "      <td>Adventure,Animation,Comedy</td>\n",
       "    </tr>\n",
       "    <tr>\n",
       "      <th>36</th>\n",
       "      <td>Red</td>\n",
       "      <td>90400000.0</td>\n",
       "      <td>108600000</td>\n",
       "      <td>2010</td>\n",
       "      <td>2014</td>\n",
       "      <td>NaN</td>\n",
       "      <td>Thriller</td>\n",
       "    </tr>\n",
       "    <tr>\n",
       "      <th>37</th>\n",
       "      <td>Red</td>\n",
       "      <td>90400000.0</td>\n",
       "      <td>108600000</td>\n",
       "      <td>2010</td>\n",
       "      <td>2012</td>\n",
       "      <td>26.0</td>\n",
       "      <td>Biography,Documentary,Drama</td>\n",
       "    </tr>\n",
       "    <tr>\n",
       "      <th>38</th>\n",
       "      <td>Red</td>\n",
       "      <td>90400000.0</td>\n",
       "      <td>108600000</td>\n",
       "      <td>2010</td>\n",
       "      <td>2014</td>\n",
       "      <td>82.0</td>\n",
       "      <td>Documentary,History</td>\n",
       "    </tr>\n",
       "    <tr>\n",
       "      <th>39</th>\n",
       "      <td>Red</td>\n",
       "      <td>90400000.0</td>\n",
       "      <td>108600000</td>\n",
       "      <td>2010</td>\n",
       "      <td>2014</td>\n",
       "      <td>107.0</td>\n",
       "      <td>Drama</td>\n",
       "    </tr>\n",
       "    <tr>\n",
       "      <th>40</th>\n",
       "      <td>Red</td>\n",
       "      <td>90400000.0</td>\n",
       "      <td>108600000</td>\n",
       "      <td>2010</td>\n",
       "      <td>2018</td>\n",
       "      <td>90.0</td>\n",
       "      <td>Drama</td>\n",
       "    </tr>\n",
       "  </tbody>\n",
       "</table>\n",
       "</div>"
      ],
      "text/plain": [
       "                                                title  domestic_gross  \\\n",
       "0                                         Toy Story 3     415000000.0   \n",
       "1                                           Inception     292600000.0   \n",
       "2                                 Shrek Forever After     238700000.0   \n",
       "3                          The Twilight Saga: Eclipse     300500000.0   \n",
       "4                                          Iron Man 2     312400000.0   \n",
       "5                                             Tangled     200800000.0   \n",
       "6                                       Despicable Me     251500000.0   \n",
       "7                            How to Train Your Dragon     217600000.0   \n",
       "8   The Chronicles of Narnia: The Voyage of the Da...     104400000.0   \n",
       "9                                   The King's Speech     135500000.0   \n",
       "10                                     The Karate Kid     176600000.0   \n",
       "11                Prince of Persia: The Sands of Time      90800000.0   \n",
       "12                                         Black Swan     107000000.0   \n",
       "13                                           Megamind     148400000.0   \n",
       "14                                         Robin Hood     105300000.0   \n",
       "15                                         Robin Hood     105300000.0   \n",
       "16                                         Robin Hood     105300000.0   \n",
       "17                                         Robin Hood     105300000.0   \n",
       "18                                         Robin Hood     105300000.0   \n",
       "19                                 The Last Airbender     131800000.0   \n",
       "20                                     Little Fockers     148400000.0   \n",
       "21                           Resident Evil: Afterlife      60100000.0   \n",
       "22                                     Shutter Island     128000000.0   \n",
       "23                                               Salt     118300000.0   \n",
       "24                                 Sex and the City 2      95300000.0   \n",
       "25                                        The Tourist      67600000.0   \n",
       "26                                    The Expendables     103100000.0   \n",
       "27                                          Grown Ups     162000000.0   \n",
       "28                                          True Grit     171200000.0   \n",
       "29                                 Gulliver's Travels      42800000.0   \n",
       "30                                 The Social Network      97000000.0   \n",
       "31                                    Valentine's Day     110500000.0   \n",
       "32                          The Sorcerer's Apprentice      63200000.0   \n",
       "33                                           Due Date     100500000.0   \n",
       "34                                      Eat Pray Love      80600000.0   \n",
       "35                                          Yogi Bear     100200000.0   \n",
       "36                                                Red      90400000.0   \n",
       "37                                                Red      90400000.0   \n",
       "38                                                Red      90400000.0   \n",
       "39                                                Red      90400000.0   \n",
       "40                                                Red      90400000.0   \n",
       "\n",
       "   foreign_gross  year  start_year  runtime_minutes  \\\n",
       "0      652000000  2010        2010            103.0   \n",
       "1      535700000  2010        2010            148.0   \n",
       "2      513900000  2010        2010             93.0   \n",
       "3      398000000  2010        2010            124.0   \n",
       "4      311500000  2010        2010            124.0   \n",
       "5      391000000  2010        2010            100.0   \n",
       "6      291600000  2010        2010             95.0   \n",
       "7      277300000  2010        2010             98.0   \n",
       "8      311300000  2010        2010            113.0   \n",
       "9      275400000  2010        2010            118.0   \n",
       "10     182500000  2010        2010            140.0   \n",
       "11     245600000  2010        2010            116.0   \n",
       "12     222400000  2010        2010            108.0   \n",
       "13     173500000  2010        2010             95.0   \n",
       "14     216400000  2010        2010            140.0   \n",
       "15     216400000  2010        2013             92.0   \n",
       "16     216400000  2010        2018            116.0   \n",
       "17     216400000  2010        2018              NaN   \n",
       "18     216400000  2010        2017             60.0   \n",
       "19     187900000  2010        2010            103.0   \n",
       "20     162200000  2010        2010             98.0   \n",
       "21     240100000  2010        2010             96.0   \n",
       "22     166800000  2010        2010            138.0   \n",
       "23     175200000  2010        2010            100.0   \n",
       "24     193000000  2010        2010            146.0   \n",
       "25     210700000  2010        2010            103.0   \n",
       "26     171400000  2010        2010            103.0   \n",
       "27     109400000  2010        2010            102.0   \n",
       "28      81000000  2010        2010            110.0   \n",
       "29     194600000  2010        2010             85.0   \n",
       "30     128000000  2010        2010            120.0   \n",
       "31     106000000  2010        2010            125.0   \n",
       "32     152100000  2010        2010            109.0   \n",
       "33     111200000  2010        2010             95.0   \n",
       "34     124000000  2010        2010            133.0   \n",
       "35     101300000  2010        2010             80.0   \n",
       "36     108600000  2010        2014              NaN   \n",
       "37     108600000  2010        2012             26.0   \n",
       "38     108600000  2010        2014             82.0   \n",
       "39     108600000  2010        2014            107.0   \n",
       "40     108600000  2010        2018             90.0   \n",
       "\n",
       "                         genres  \n",
       "0    Adventure,Animation,Comedy  \n",
       "1       Action,Adventure,Sci-Fi  \n",
       "2    Adventure,Animation,Comedy  \n",
       "3       Adventure,Drama,Fantasy  \n",
       "4       Action,Adventure,Sci-Fi  \n",
       "5    Adventure,Animation,Comedy  \n",
       "6       Animation,Comedy,Family  \n",
       "7    Action,Adventure,Animation  \n",
       "8      Adventure,Family,Fantasy  \n",
       "9       Biography,Drama,History  \n",
       "10          Action,Drama,Family  \n",
       "11     Action,Adventure,Fantasy  \n",
       "12               Drama,Thriller  \n",
       "13      Action,Animation,Comedy  \n",
       "14       Action,Adventure,Drama  \n",
       "15                 Action,Drama  \n",
       "16    Action,Adventure,Thriller  \n",
       "17                          NaN  \n",
       "18     Action,Adventure,History  \n",
       "19      Action,Adventure,Family  \n",
       "20               Comedy,Romance  \n",
       "21      Action,Adventure,Horror  \n",
       "22             Mystery,Thriller  \n",
       "23      Action,Mystery,Thriller  \n",
       "24         Comedy,Drama,Romance  \n",
       "25    Action,Adventure,Thriller  \n",
       "26    Action,Adventure,Thriller  \n",
       "27                       Comedy  \n",
       "28      Adventure,Drama,Western  \n",
       "29      Adventure,Comedy,Family  \n",
       "30              Biography,Drama  \n",
       "31               Comedy,Romance  \n",
       "32      Action,Adventure,Family  \n",
       "33             Adventure,Comedy  \n",
       "34                Drama,Romance  \n",
       "35   Adventure,Animation,Comedy  \n",
       "36                     Thriller  \n",
       "37  Biography,Documentary,Drama  \n",
       "38          Documentary,History  \n",
       "39                        Drama  \n",
       "40                        Drama  "
      ]
     },
     "execution_count": 7,
     "metadata": {},
     "output_type": "execute_result"
    }
   ],
   "source": [
    "IMBD_df.head(41)"
   ]
  },
  {
   "cell_type": "markdown",
   "metadata": {},
   "source": [
    "What is the length of this dataframe?"
   ]
  },
  {
   "cell_type": "code",
   "execution_count": 8,
   "metadata": {},
   "outputs": [
    {
     "data": {
      "text/plain": [
       "3366"
      ]
     },
     "execution_count": 8,
     "metadata": {},
     "output_type": "execute_result"
    }
   ],
   "source": [
    "len(IMBD_df)"
   ]
  },
  {
   "cell_type": "markdown",
   "metadata": {},
   "source": [
    "Using this length as the upper end of our index range, we can now identify rows where the years do not match and drop those rows."
   ]
  },
  {
   "cell_type": "code",
   "execution_count": 9,
   "metadata": {},
   "outputs": [],
   "source": [
    "for i in range(0,3366):\n",
    "    if IMBD_df['year'][i] != IMBD_df['start_year'][i]:\n",
    "        IMBD_df.drop(i, inplace = True)"
   ]
  },
  {
   "cell_type": "markdown",
   "metadata": {},
   "source": [
    "If two different movies have both the same title and the same year, they will still be present as mismatches in the dataframe. However, it's safe to assume that such cases are so rare that they will have a negligible impact on the analysis."
   ]
  },
  {
   "cell_type": "code",
   "execution_count": 10,
   "metadata": {},
   "outputs": [
    {
     "data": {
      "text/plain": [
       "1873"
      ]
     },
     "execution_count": 10,
     "metadata": {},
     "output_type": "execute_result"
    }
   ],
   "source": [
    "len(IMBD_df)"
   ]
  },
  {
   "cell_type": "markdown",
   "metadata": {},
   "source": [
    "The length of our dataframe is now 1873. Still not a bad sample size! The next step in the cleaning process is to find and deal with any missing values. By chaining the sum method to isna(), we get the total missing values for each column in the dataframe:"
   ]
  },
  {
   "cell_type": "code",
   "execution_count": 11,
   "metadata": {},
   "outputs": [
    {
     "data": {
      "text/plain": [
       "title                0\n",
       "domestic_gross      10\n",
       "foreign_gross      595\n",
       "year                 0\n",
       "start_year           0\n",
       "runtime_minutes     10\n",
       "genres               2\n",
       "dtype: int64"
      ]
     },
     "execution_count": 11,
     "metadata": {},
     "output_type": "execute_result"
    }
   ],
   "source": [
    "IMBD_df.isna().sum()"
   ]
  },
  {
   "cell_type": "markdown",
   "metadata": {},
   "source": [
    "There are 595 missing values in the foreign_gross column. We cannot eliminate the entire row wherever there is a missing value, since doing so would require discarding valuable data in other colums with far fewer missing values. Instead, we can drop the foreign gross column, and then drop the few remaining rows that have missing values for other columns. Although this approach will cost us the data on foreign markets, it will give us a better picture of which types of movies perform well in domestic markets."
   ]
  },
  {
   "cell_type": "code",
   "execution_count": 12,
   "metadata": {},
   "outputs": [],
   "source": [
    "IMBD_df = IMBD_df.drop(columns = 'foreign_gross')"
   ]
  },
  {
   "cell_type": "code",
   "execution_count": 13,
   "metadata": {},
   "outputs": [],
   "source": [
    "IMBD_df = IMBD_df.dropna()"
   ]
  },
  {
   "cell_type": "code",
   "execution_count": 14,
   "metadata": {},
   "outputs": [
    {
     "data": {
      "text/plain": [
       "title              0\n",
       "domestic_gross     0\n",
       "year               0\n",
       "start_year         0\n",
       "runtime_minutes    0\n",
       "genres             0\n",
       "dtype: int64"
      ]
     },
     "execution_count": 14,
     "metadata": {},
     "output_type": "execute_result"
    }
   ],
   "source": [
    "#confirm that no missing values remain\n",
    "IMBD_df.isna().sum()"
   ]
  },
  {
   "cell_type": "code",
   "execution_count": 15,
   "metadata": {},
   "outputs": [
    {
     "data": {
      "text/plain": [
       "1852"
      ]
     },
     "execution_count": 15,
     "metadata": {},
     "output_type": "execute_result"
    }
   ],
   "source": [
    "#get final length\n",
    "len(IMBD_df)"
   ]
  },
  {
   "cell_type": "markdown",
   "metadata": {},
   "source": [
    "## Rotten Tomatoes Data"
   ]
  },
  {
   "cell_type": "markdown",
   "metadata": {},
   "source": [
    "We'll use the same approach to read and clean the Rotten Tomatoes dataset."
   ]
  },
  {
   "cell_type": "code",
   "execution_count": 16,
   "metadata": {},
   "outputs": [
    {
     "data": {
      "text/html": [
       "<div>\n",
       "<style scoped>\n",
       "    .dataframe tbody tr th:only-of-type {\n",
       "        vertical-align: middle;\n",
       "    }\n",
       "\n",
       "    .dataframe tbody tr th {\n",
       "        vertical-align: top;\n",
       "    }\n",
       "\n",
       "    .dataframe thead th {\n",
       "        text-align: right;\n",
       "    }\n",
       "</style>\n",
       "<table border=\"1\" class=\"dataframe\">\n",
       "  <thead>\n",
       "    <tr style=\"text-align: right;\">\n",
       "      <th></th>\n",
       "      <th>id</th>\n",
       "      <th>review</th>\n",
       "      <th>rating</th>\n",
       "      <th>fresh</th>\n",
       "      <th>critic</th>\n",
       "      <th>top_critic</th>\n",
       "      <th>publisher</th>\n",
       "      <th>date</th>\n",
       "    </tr>\n",
       "  </thead>\n",
       "  <tbody>\n",
       "    <tr>\n",
       "      <th>0</th>\n",
       "      <td>3</td>\n",
       "      <td>A distinctly gallows take on contemporary fina...</td>\n",
       "      <td>3/5</td>\n",
       "      <td>fresh</td>\n",
       "      <td>PJ Nabarro</td>\n",
       "      <td>0</td>\n",
       "      <td>Patrick Nabarro</td>\n",
       "      <td>November 10, 2018</td>\n",
       "    </tr>\n",
       "    <tr>\n",
       "      <th>1</th>\n",
       "      <td>3</td>\n",
       "      <td>It's an allegory in search of a meaning that n...</td>\n",
       "      <td>NaN</td>\n",
       "      <td>rotten</td>\n",
       "      <td>Annalee Newitz</td>\n",
       "      <td>0</td>\n",
       "      <td>io9.com</td>\n",
       "      <td>May 23, 2018</td>\n",
       "    </tr>\n",
       "    <tr>\n",
       "      <th>2</th>\n",
       "      <td>3</td>\n",
       "      <td>... life lived in a bubble in financial dealin...</td>\n",
       "      <td>NaN</td>\n",
       "      <td>fresh</td>\n",
       "      <td>Sean Axmaker</td>\n",
       "      <td>0</td>\n",
       "      <td>Stream on Demand</td>\n",
       "      <td>January 4, 2018</td>\n",
       "    </tr>\n",
       "    <tr>\n",
       "      <th>3</th>\n",
       "      <td>3</td>\n",
       "      <td>Continuing along a line introduced in last yea...</td>\n",
       "      <td>NaN</td>\n",
       "      <td>fresh</td>\n",
       "      <td>Daniel Kasman</td>\n",
       "      <td>0</td>\n",
       "      <td>MUBI</td>\n",
       "      <td>November 16, 2017</td>\n",
       "    </tr>\n",
       "    <tr>\n",
       "      <th>4</th>\n",
       "      <td>3</td>\n",
       "      <td>... a perverse twist on neorealism...</td>\n",
       "      <td>NaN</td>\n",
       "      <td>fresh</td>\n",
       "      <td>NaN</td>\n",
       "      <td>0</td>\n",
       "      <td>Cinema Scope</td>\n",
       "      <td>October 12, 2017</td>\n",
       "    </tr>\n",
       "    <tr>\n",
       "      <th>...</th>\n",
       "      <td>...</td>\n",
       "      <td>...</td>\n",
       "      <td>...</td>\n",
       "      <td>...</td>\n",
       "      <td>...</td>\n",
       "      <td>...</td>\n",
       "      <td>...</td>\n",
       "      <td>...</td>\n",
       "    </tr>\n",
       "    <tr>\n",
       "      <th>54427</th>\n",
       "      <td>2000</td>\n",
       "      <td>The real charm of this trifle is the deadpan c...</td>\n",
       "      <td>NaN</td>\n",
       "      <td>fresh</td>\n",
       "      <td>Laura Sinagra</td>\n",
       "      <td>1</td>\n",
       "      <td>Village Voice</td>\n",
       "      <td>September 24, 2002</td>\n",
       "    </tr>\n",
       "    <tr>\n",
       "      <th>54428</th>\n",
       "      <td>2000</td>\n",
       "      <td>NaN</td>\n",
       "      <td>1/5</td>\n",
       "      <td>rotten</td>\n",
       "      <td>Michael Szymanski</td>\n",
       "      <td>0</td>\n",
       "      <td>Zap2it.com</td>\n",
       "      <td>September 21, 2005</td>\n",
       "    </tr>\n",
       "    <tr>\n",
       "      <th>54429</th>\n",
       "      <td>2000</td>\n",
       "      <td>NaN</td>\n",
       "      <td>2/5</td>\n",
       "      <td>rotten</td>\n",
       "      <td>Emanuel Levy</td>\n",
       "      <td>0</td>\n",
       "      <td>EmanuelLevy.Com</td>\n",
       "      <td>July 17, 2005</td>\n",
       "    </tr>\n",
       "    <tr>\n",
       "      <th>54430</th>\n",
       "      <td>2000</td>\n",
       "      <td>NaN</td>\n",
       "      <td>2.5/5</td>\n",
       "      <td>rotten</td>\n",
       "      <td>Christopher Null</td>\n",
       "      <td>0</td>\n",
       "      <td>Filmcritic.com</td>\n",
       "      <td>September 7, 2003</td>\n",
       "    </tr>\n",
       "    <tr>\n",
       "      <th>54431</th>\n",
       "      <td>2000</td>\n",
       "      <td>NaN</td>\n",
       "      <td>3/5</td>\n",
       "      <td>fresh</td>\n",
       "      <td>Nicolas Lacroix</td>\n",
       "      <td>0</td>\n",
       "      <td>Showbizz.net</td>\n",
       "      <td>November 12, 2002</td>\n",
       "    </tr>\n",
       "  </tbody>\n",
       "</table>\n",
       "<p>54432 rows × 8 columns</p>\n",
       "</div>"
      ],
      "text/plain": [
       "         id                                             review rating   fresh  \\\n",
       "0         3  A distinctly gallows take on contemporary fina...    3/5   fresh   \n",
       "1         3  It's an allegory in search of a meaning that n...    NaN  rotten   \n",
       "2         3  ... life lived in a bubble in financial dealin...    NaN   fresh   \n",
       "3         3  Continuing along a line introduced in last yea...    NaN   fresh   \n",
       "4         3             ... a perverse twist on neorealism...     NaN   fresh   \n",
       "...     ...                                                ...    ...     ...   \n",
       "54427  2000  The real charm of this trifle is the deadpan c...    NaN   fresh   \n",
       "54428  2000                                                NaN    1/5  rotten   \n",
       "54429  2000                                                NaN    2/5  rotten   \n",
       "54430  2000                                                NaN  2.5/5  rotten   \n",
       "54431  2000                                                NaN    3/5   fresh   \n",
       "\n",
       "                  critic  top_critic         publisher                date  \n",
       "0             PJ Nabarro           0   Patrick Nabarro   November 10, 2018  \n",
       "1         Annalee Newitz           0           io9.com        May 23, 2018  \n",
       "2           Sean Axmaker           0  Stream on Demand     January 4, 2018  \n",
       "3          Daniel Kasman           0              MUBI   November 16, 2017  \n",
       "4                    NaN           0      Cinema Scope    October 12, 2017  \n",
       "...                  ...         ...               ...                 ...  \n",
       "54427      Laura Sinagra           1     Village Voice  September 24, 2002  \n",
       "54428  Michael Szymanski           0        Zap2it.com  September 21, 2005  \n",
       "54429       Emanuel Levy           0   EmanuelLevy.Com       July 17, 2005  \n",
       "54430   Christopher Null           0    Filmcritic.com   September 7, 2003  \n",
       "54431    Nicolas Lacroix           0      Showbizz.net   November 12, 2002  \n",
       "\n",
       "[54432 rows x 8 columns]"
      ]
     },
     "execution_count": 16,
     "metadata": {},
     "output_type": "execute_result"
    }
   ],
   "source": [
    "rt_reviews = pd.read_csv('rt.reviews.tsv', delimiter=\"\\t\", header=0, encoding=\"unicode_escape'\")\n",
    "rt_reviews.head(100000)"
   ]
  },
  {
   "cell_type": "code",
   "execution_count": 17,
   "metadata": {
    "scrolled": false
   },
   "outputs": [
    {
     "data": {
      "text/html": [
       "<div>\n",
       "<style scoped>\n",
       "    .dataframe tbody tr th:only-of-type {\n",
       "        vertical-align: middle;\n",
       "    }\n",
       "\n",
       "    .dataframe tbody tr th {\n",
       "        vertical-align: top;\n",
       "    }\n",
       "\n",
       "    .dataframe thead th {\n",
       "        text-align: right;\n",
       "    }\n",
       "</style>\n",
       "<table border=\"1\" class=\"dataframe\">\n",
       "  <thead>\n",
       "    <tr style=\"text-align: right;\">\n",
       "      <th></th>\n",
       "      <th>id</th>\n",
       "      <th>synopsis</th>\n",
       "      <th>rating</th>\n",
       "      <th>genre</th>\n",
       "      <th>director</th>\n",
       "      <th>writer</th>\n",
       "      <th>theater_date</th>\n",
       "      <th>dvd_date</th>\n",
       "      <th>currency</th>\n",
       "      <th>box_office</th>\n",
       "      <th>runtime</th>\n",
       "      <th>studio</th>\n",
       "    </tr>\n",
       "  </thead>\n",
       "  <tbody>\n",
       "    <tr>\n",
       "      <th>0</th>\n",
       "      <td>1</td>\n",
       "      <td>This gritty, fast-paced, and innovative police...</td>\n",
       "      <td>R</td>\n",
       "      <td>Action and Adventure|Classics|Drama</td>\n",
       "      <td>William Friedkin</td>\n",
       "      <td>Ernest Tidyman</td>\n",
       "      <td>Oct 9, 1971</td>\n",
       "      <td>Sep 25, 2001</td>\n",
       "      <td>NaN</td>\n",
       "      <td>NaN</td>\n",
       "      <td>104 minutes</td>\n",
       "      <td>NaN</td>\n",
       "    </tr>\n",
       "    <tr>\n",
       "      <th>1</th>\n",
       "      <td>3</td>\n",
       "      <td>New York City, not-too-distant-future: Eric Pa...</td>\n",
       "      <td>R</td>\n",
       "      <td>Drama|Science Fiction and Fantasy</td>\n",
       "      <td>David Cronenberg</td>\n",
       "      <td>David Cronenberg|Don DeLillo</td>\n",
       "      <td>Aug 17, 2012</td>\n",
       "      <td>Jan 1, 2013</td>\n",
       "      <td>$</td>\n",
       "      <td>600,000</td>\n",
       "      <td>108 minutes</td>\n",
       "      <td>Entertainment One</td>\n",
       "    </tr>\n",
       "    <tr>\n",
       "      <th>2</th>\n",
       "      <td>5</td>\n",
       "      <td>Illeana Douglas delivers a superb performance ...</td>\n",
       "      <td>R</td>\n",
       "      <td>Drama|Musical and Performing Arts</td>\n",
       "      <td>Allison Anders</td>\n",
       "      <td>Allison Anders</td>\n",
       "      <td>Sep 13, 1996</td>\n",
       "      <td>Apr 18, 2000</td>\n",
       "      <td>NaN</td>\n",
       "      <td>NaN</td>\n",
       "      <td>116 minutes</td>\n",
       "      <td>NaN</td>\n",
       "    </tr>\n",
       "    <tr>\n",
       "      <th>3</th>\n",
       "      <td>6</td>\n",
       "      <td>Michael Douglas runs afoul of a treacherous su...</td>\n",
       "      <td>R</td>\n",
       "      <td>Drama|Mystery and Suspense</td>\n",
       "      <td>Barry Levinson</td>\n",
       "      <td>Paul Attanasio|Michael Crichton</td>\n",
       "      <td>Dec 9, 1994</td>\n",
       "      <td>Aug 27, 1997</td>\n",
       "      <td>NaN</td>\n",
       "      <td>NaN</td>\n",
       "      <td>128 minutes</td>\n",
       "      <td>NaN</td>\n",
       "    </tr>\n",
       "    <tr>\n",
       "      <th>4</th>\n",
       "      <td>7</td>\n",
       "      <td>NaN</td>\n",
       "      <td>NR</td>\n",
       "      <td>Drama|Romance</td>\n",
       "      <td>Rodney Bennett</td>\n",
       "      <td>Giles Cooper</td>\n",
       "      <td>NaN</td>\n",
       "      <td>NaN</td>\n",
       "      <td>NaN</td>\n",
       "      <td>NaN</td>\n",
       "      <td>200 minutes</td>\n",
       "      <td>NaN</td>\n",
       "    </tr>\n",
       "  </tbody>\n",
       "</table>\n",
       "</div>"
      ],
      "text/plain": [
       "   id                                           synopsis rating  \\\n",
       "0   1  This gritty, fast-paced, and innovative police...      R   \n",
       "1   3  New York City, not-too-distant-future: Eric Pa...      R   \n",
       "2   5  Illeana Douglas delivers a superb performance ...      R   \n",
       "3   6  Michael Douglas runs afoul of a treacherous su...      R   \n",
       "4   7                                                NaN     NR   \n",
       "\n",
       "                                 genre          director  \\\n",
       "0  Action and Adventure|Classics|Drama  William Friedkin   \n",
       "1    Drama|Science Fiction and Fantasy  David Cronenberg   \n",
       "2    Drama|Musical and Performing Arts    Allison Anders   \n",
       "3           Drama|Mystery and Suspense    Barry Levinson   \n",
       "4                        Drama|Romance    Rodney Bennett   \n",
       "\n",
       "                            writer  theater_date      dvd_date currency  \\\n",
       "0                   Ernest Tidyman   Oct 9, 1971  Sep 25, 2001      NaN   \n",
       "1     David Cronenberg|Don DeLillo  Aug 17, 2012   Jan 1, 2013        $   \n",
       "2                   Allison Anders  Sep 13, 1996  Apr 18, 2000      NaN   \n",
       "3  Paul Attanasio|Michael Crichton   Dec 9, 1994  Aug 27, 1997      NaN   \n",
       "4                     Giles Cooper           NaN           NaN      NaN   \n",
       "\n",
       "  box_office      runtime             studio  \n",
       "0        NaN  104 minutes                NaN  \n",
       "1    600,000  108 minutes  Entertainment One  \n",
       "2        NaN  116 minutes                NaN  \n",
       "3        NaN  128 minutes                NaN  \n",
       "4        NaN  200 minutes                NaN  "
      ]
     },
     "execution_count": 17,
     "metadata": {},
     "output_type": "execute_result"
    }
   ],
   "source": [
    "rt_info = pd.read_csv('rt.movie_info.tsv', delimiter = '\\t', header=0, encoding=\"unicode_escape\")\n",
    "rt_info.head() "
   ]
  },
  {
   "cell_type": "markdown",
   "metadata": {},
   "source": [
    "The only column that these datasets have in common is \"id.\" Before merging on this column, we should confirm that these id numbers correspond to the same movie in both datasets. There's no column for the movie titles, so we'll have to inspect the reviews column to get a title."
   ]
  },
  {
   "cell_type": "code",
   "execution_count": 18,
   "metadata": {},
   "outputs": [
    {
     "data": {
      "text/plain": [
       "0                                                                      A distinctly gallows take on contemporary financial mores, as one absurdly rich man's limo ride across town for a haircut functions as a state-of-the-nation discourse. \n",
       "1                                                                                                                                        It's an allegory in search of a meaning that never arrives...It's just old-fashioned bad storytelling.\n",
       "2      ... life lived in a bubble in financial dealings and digital communications and brief face-to-face conversations and sexual intermissions in a space shuttle of a limousine creeping through the gridlock of an anonymous New York City.\n",
       "3    Continuing along a line introduced in last year's \"A Dangerous Method\", David Cronenberg pushes his cinema towards a talky abstraction in his uncanny, perversely funny and frighteningly insular adaptation of Don DeLillo, \"Cosmopolis\".\n",
       "4                                                                                                                                                                                                        ... a perverse twist on neorealism... \n",
       "Name: review, dtype: object"
      ]
     },
     "execution_count": 18,
     "metadata": {},
     "output_type": "execute_result"
    }
   ],
   "source": [
    "#changes column display settings to display entire cell content when inspecting reviews \n",
    "pd.set_option('display.max_colwidth', None)\n",
    "\n",
    "#display first five rows\n",
    "rt_reviews['review'][0:5]"
   ]
  },
  {
   "cell_type": "markdown",
   "metadata": {},
   "source": [
    "It appears that id #3 in the reviews dataset corresponds to *Cosmopolis* by director David Cronenberg. Let's inspect the same id number for the movie info dataset."
   ]
  },
  {
   "cell_type": "code",
   "execution_count": 19,
   "metadata": {},
   "outputs": [
    {
     "data": {
      "text/plain": [
       "id                                                                                                                                                                                                                                                                                                                                                                                                                                                                                                                                                                                                                                                                                                                                                                                                                                                                                                                                                      3\n",
       "synopsis        New York City, not-too-distant-future: Eric Packer, a 28 year-old finance golden boy dreaming of living in a civilization ahead of this one, watches a dark shadow cast over the firmament of the Wall Street galaxy, of which he is the uncontested king. As he is chauffeured across midtown Manhattan to get a haircut at his father's old barber, his anxious eyes are glued to the yuan's exchange rate: it is mounting against all expectations, destroying Eric's bet against it. Eric Packer is losing his empire with every tick of the clock. Meanwhile, an eruption of wild activity unfolds in the city's streets. Petrified as the threats of the real world infringe upon his cloud of virtual convictions, his paranoia intensifies during the course of his 24-hour cross-town odyssey. Packer starts to piece together clues that lead him to a most terrifying secret: his imminent assassination. -- (C) Official Site\n",
       "rating                                                                                                                                                                                                                                                                                                                                                                                                                                                                                                                                                                                                                                                                                                                                                                                                                                                                                                                                                  R\n",
       "genre                                                                                                                                                                                                                                                                                                                                                                                                                                                                                                                                                                                                                                                                                                                                                                                                                                                                                                                   Drama|Science Fiction and Fantasy\n",
       "director                                                                                                                                                                                                                                                                                                                                                                                                                                                                                                                                                                                                                                                                                                                                                                                                                                                                                                                                 David Cronenberg\n",
       "writer                                                                                                                                                                                                                                                                                                                                                                                                                                                                                                                                                                                                                                                                                                                                                                                                                                                                                                                       David Cronenberg|Don DeLillo\n",
       "theater_date                                                                                                                                                                                                                                                                                                                                                                                                                                                                                                                                                                                                                                                                                                                                                                                                                                                                                                                                 Aug 17, 2012\n",
       "dvd_date                                                                                                                                                                                                                                                                                                                                                                                                                                                                                                                                                                                                                                                                                                                                                                                                                                                                                                                                      Jan 1, 2013\n",
       "currency                                                                                                                                                                                                                                                                                                                                                                                                                                                                                                                                                                                                                                                                                                                                                                                                                                                                                                                                                $\n",
       "box_office                                                                                                                                                                                                                                                                                                                                                                                                                                                                                                                                                                                                                                                                                                                                                                                                                                                                                                                                        600,000\n",
       "runtime                                                                                                                                                                                                                                                                                                                                                                                                                                                                                                                                                                                                                                                                                                                                                                                                                                                                                                                                       108 minutes\n",
       "studio                                                                                                                                                                                                                                                                                                                                                                                                                                                                                                                                                                                                                                                                                                                                                                                                                                                                                                                                  Entertainment One\n",
       "Name: 1, dtype: object"
      ]
     },
     "execution_count": 19,
     "metadata": {},
     "output_type": "execute_result"
    }
   ],
   "source": [
    "rt_info.loc[1]"
   ]
  },
  {
   "cell_type": "markdown",
   "metadata": {},
   "source": [
    "We have a match! A quick Google search will confirm that all of these values match the information for *Cosmopolis*. To ensure that this match isn't coincidental, we'll test another ID number chosen at random."
   ]
  },
  {
   "cell_type": "code",
   "execution_count": 20,
   "metadata": {},
   "outputs": [
    {
     "data": {
      "text/plain": [
       "800    23\n",
       "801    23\n",
       "802    23\n",
       "803    23\n",
       "804    23\n",
       "Name: id, dtype: int64"
      ]
     },
     "execution_count": 20,
     "metadata": {},
     "output_type": "execute_result"
    }
   ],
   "source": [
    "#get ID number for another sequence of rows\n",
    "rt_reviews['id'][800:805]"
   ]
  },
  {
   "cell_type": "code",
   "execution_count": 21,
   "metadata": {},
   "outputs": [
    {
     "data": {
      "text/plain": [
       "800                                                                    Regardless of its fine cast and stylish execution, the shallow \"American Hustle\" sells sparkle and hustle. \n",
       "801           American Hustle offers a, crowd-pleasing experience - one with profound social commentary, laugh-out-loud comedy, and even unexpected moments of compassion to boot.\n",
       "802                                                    The most exciting thing about David O. Russell's operatic-comedy American Hustle is how every piece of it double plays us. \n",
       "803                       The ensemble helps to spotlight virtues in those who are flawed, and flaws in those who are virtuous, earning sympathy where sometimes none is deserved.\n",
       "804    On paper, American Hustle should be the movie of the year and sweep the Oscars, but its supreme promise fades once the lights go down in the theater. It's good, not great.\n",
       "Name: review, dtype: object"
      ]
     },
     "execution_count": 21,
     "metadata": {},
     "output_type": "execute_result"
    }
   ],
   "source": [
    "rt_reviews['review'][800:805]"
   ]
  },
  {
   "cell_type": "markdown",
   "metadata": {},
   "source": [
    "In the reviews dataset, ID #23 corresponds to *American Hustle*. What about the info dataset?"
   ]
  },
  {
   "cell_type": "code",
   "execution_count": 22,
   "metadata": {},
   "outputs": [],
   "source": [
    "test = rt_info.loc[rt_info['id'] == 23]"
   ]
  },
  {
   "cell_type": "markdown",
   "metadata": {},
   "source": [
    "Another match! Now that we know that the IDs in both datasets correspond to the same films, and can merge them on this column. We'll specify <code>how='inner'</code> to only extract rows with matching id numbers in both datasets."
   ]
  },
  {
   "cell_type": "code",
   "execution_count": 23,
   "metadata": {},
   "outputs": [
    {
     "data": {
      "text/html": [
       "<div>\n",
       "<style scoped>\n",
       "    .dataframe tbody tr th:only-of-type {\n",
       "        vertical-align: middle;\n",
       "    }\n",
       "\n",
       "    .dataframe tbody tr th {\n",
       "        vertical-align: top;\n",
       "    }\n",
       "\n",
       "    .dataframe thead th {\n",
       "        text-align: right;\n",
       "    }\n",
       "</style>\n",
       "<table border=\"1\" class=\"dataframe\">\n",
       "  <thead>\n",
       "    <tr style=\"text-align: right;\">\n",
       "      <th></th>\n",
       "      <th>id</th>\n",
       "      <th>synopsis</th>\n",
       "      <th>rating_x</th>\n",
       "      <th>genre</th>\n",
       "      <th>director</th>\n",
       "      <th>writer</th>\n",
       "      <th>theater_date</th>\n",
       "      <th>dvd_date</th>\n",
       "      <th>currency</th>\n",
       "      <th>box_office</th>\n",
       "      <th>runtime</th>\n",
       "      <th>studio</th>\n",
       "      <th>review</th>\n",
       "      <th>rating_y</th>\n",
       "      <th>fresh</th>\n",
       "      <th>critic</th>\n",
       "      <th>top_critic</th>\n",
       "      <th>publisher</th>\n",
       "      <th>date</th>\n",
       "    </tr>\n",
       "  </thead>\n",
       "  <tbody>\n",
       "    <tr>\n",
       "      <th>0</th>\n",
       "      <td>3</td>\n",
       "      <td>New York City, not-too-distant-future: Eric Packer, a 28 year-old finance golden boy dreaming of living in a civilization ahead of this one, watches a dark shadow cast over the firmament of the Wall Street galaxy, of which he is the uncontested king. As he is chauffeured across midtown Manhattan to get a haircut at his father's old barber, his anxious eyes are glued to the yuan's exchange rate: it is mounting against all expectations, destroying Eric's bet against it. Eric Packer is losing his empire with every tick of the clock. Meanwhile, an eruption of wild activity unfolds in the city's streets. Petrified as the threats of the real world infringe upon his cloud of virtual convictions, his paranoia intensifies during the course of his 24-hour cross-town odyssey. Packer starts to piece together clues that lead him to a most terrifying secret: his imminent assassination. -- (C) Official Site</td>\n",
       "      <td>R</td>\n",
       "      <td>Drama|Science Fiction and Fantasy</td>\n",
       "      <td>David Cronenberg</td>\n",
       "      <td>David Cronenberg|Don DeLillo</td>\n",
       "      <td>Aug 17, 2012</td>\n",
       "      <td>Jan 1, 2013</td>\n",
       "      <td>$</td>\n",
       "      <td>600,000</td>\n",
       "      <td>108 minutes</td>\n",
       "      <td>Entertainment One</td>\n",
       "      <td>A distinctly gallows take on contemporary financial mores, as one absurdly rich man's limo ride across town for a haircut functions as a state-of-the-nation discourse.</td>\n",
       "      <td>3/5</td>\n",
       "      <td>fresh</td>\n",
       "      <td>PJ Nabarro</td>\n",
       "      <td>0</td>\n",
       "      <td>Patrick Nabarro</td>\n",
       "      <td>November 10, 2018</td>\n",
       "    </tr>\n",
       "    <tr>\n",
       "      <th>1</th>\n",
       "      <td>3</td>\n",
       "      <td>New York City, not-too-distant-future: Eric Packer, a 28 year-old finance golden boy dreaming of living in a civilization ahead of this one, watches a dark shadow cast over the firmament of the Wall Street galaxy, of which he is the uncontested king. As he is chauffeured across midtown Manhattan to get a haircut at his father's old barber, his anxious eyes are glued to the yuan's exchange rate: it is mounting against all expectations, destroying Eric's bet against it. Eric Packer is losing his empire with every tick of the clock. Meanwhile, an eruption of wild activity unfolds in the city's streets. Petrified as the threats of the real world infringe upon his cloud of virtual convictions, his paranoia intensifies during the course of his 24-hour cross-town odyssey. Packer starts to piece together clues that lead him to a most terrifying secret: his imminent assassination. -- (C) Official Site</td>\n",
       "      <td>R</td>\n",
       "      <td>Drama|Science Fiction and Fantasy</td>\n",
       "      <td>David Cronenberg</td>\n",
       "      <td>David Cronenberg|Don DeLillo</td>\n",
       "      <td>Aug 17, 2012</td>\n",
       "      <td>Jan 1, 2013</td>\n",
       "      <td>$</td>\n",
       "      <td>600,000</td>\n",
       "      <td>108 minutes</td>\n",
       "      <td>Entertainment One</td>\n",
       "      <td>It's an allegory in search of a meaning that never arrives...It's just old-fashioned bad storytelling.</td>\n",
       "      <td>NaN</td>\n",
       "      <td>rotten</td>\n",
       "      <td>Annalee Newitz</td>\n",
       "      <td>0</td>\n",
       "      <td>io9.com</td>\n",
       "      <td>May 23, 2018</td>\n",
       "    </tr>\n",
       "    <tr>\n",
       "      <th>2</th>\n",
       "      <td>3</td>\n",
       "      <td>New York City, not-too-distant-future: Eric Packer, a 28 year-old finance golden boy dreaming of living in a civilization ahead of this one, watches a dark shadow cast over the firmament of the Wall Street galaxy, of which he is the uncontested king. As he is chauffeured across midtown Manhattan to get a haircut at his father's old barber, his anxious eyes are glued to the yuan's exchange rate: it is mounting against all expectations, destroying Eric's bet against it. Eric Packer is losing his empire with every tick of the clock. Meanwhile, an eruption of wild activity unfolds in the city's streets. Petrified as the threats of the real world infringe upon his cloud of virtual convictions, his paranoia intensifies during the course of his 24-hour cross-town odyssey. Packer starts to piece together clues that lead him to a most terrifying secret: his imminent assassination. -- (C) Official Site</td>\n",
       "      <td>R</td>\n",
       "      <td>Drama|Science Fiction and Fantasy</td>\n",
       "      <td>David Cronenberg</td>\n",
       "      <td>David Cronenberg|Don DeLillo</td>\n",
       "      <td>Aug 17, 2012</td>\n",
       "      <td>Jan 1, 2013</td>\n",
       "      <td>$</td>\n",
       "      <td>600,000</td>\n",
       "      <td>108 minutes</td>\n",
       "      <td>Entertainment One</td>\n",
       "      <td>... life lived in a bubble in financial dealings and digital communications and brief face-to-face conversations and sexual intermissions in a space shuttle of a limousine creeping through the gridlock of an anonymous New York City.</td>\n",
       "      <td>NaN</td>\n",
       "      <td>fresh</td>\n",
       "      <td>Sean Axmaker</td>\n",
       "      <td>0</td>\n",
       "      <td>Stream on Demand</td>\n",
       "      <td>January 4, 2018</td>\n",
       "    </tr>\n",
       "    <tr>\n",
       "      <th>3</th>\n",
       "      <td>3</td>\n",
       "      <td>New York City, not-too-distant-future: Eric Packer, a 28 year-old finance golden boy dreaming of living in a civilization ahead of this one, watches a dark shadow cast over the firmament of the Wall Street galaxy, of which he is the uncontested king. As he is chauffeured across midtown Manhattan to get a haircut at his father's old barber, his anxious eyes are glued to the yuan's exchange rate: it is mounting against all expectations, destroying Eric's bet against it. Eric Packer is losing his empire with every tick of the clock. Meanwhile, an eruption of wild activity unfolds in the city's streets. Petrified as the threats of the real world infringe upon his cloud of virtual convictions, his paranoia intensifies during the course of his 24-hour cross-town odyssey. Packer starts to piece together clues that lead him to a most terrifying secret: his imminent assassination. -- (C) Official Site</td>\n",
       "      <td>R</td>\n",
       "      <td>Drama|Science Fiction and Fantasy</td>\n",
       "      <td>David Cronenberg</td>\n",
       "      <td>David Cronenberg|Don DeLillo</td>\n",
       "      <td>Aug 17, 2012</td>\n",
       "      <td>Jan 1, 2013</td>\n",
       "      <td>$</td>\n",
       "      <td>600,000</td>\n",
       "      <td>108 minutes</td>\n",
       "      <td>Entertainment One</td>\n",
       "      <td>Continuing along a line introduced in last year's \"A Dangerous Method\", David Cronenberg pushes his cinema towards a talky abstraction in his uncanny, perversely funny and frighteningly insular adaptation of Don DeLillo, \"Cosmopolis\".</td>\n",
       "      <td>NaN</td>\n",
       "      <td>fresh</td>\n",
       "      <td>Daniel Kasman</td>\n",
       "      <td>0</td>\n",
       "      <td>MUBI</td>\n",
       "      <td>November 16, 2017</td>\n",
       "    </tr>\n",
       "    <tr>\n",
       "      <th>4</th>\n",
       "      <td>3</td>\n",
       "      <td>New York City, not-too-distant-future: Eric Packer, a 28 year-old finance golden boy dreaming of living in a civilization ahead of this one, watches a dark shadow cast over the firmament of the Wall Street galaxy, of which he is the uncontested king. As he is chauffeured across midtown Manhattan to get a haircut at his father's old barber, his anxious eyes are glued to the yuan's exchange rate: it is mounting against all expectations, destroying Eric's bet against it. Eric Packer is losing his empire with every tick of the clock. Meanwhile, an eruption of wild activity unfolds in the city's streets. Petrified as the threats of the real world infringe upon his cloud of virtual convictions, his paranoia intensifies during the course of his 24-hour cross-town odyssey. Packer starts to piece together clues that lead him to a most terrifying secret: his imminent assassination. -- (C) Official Site</td>\n",
       "      <td>R</td>\n",
       "      <td>Drama|Science Fiction and Fantasy</td>\n",
       "      <td>David Cronenberg</td>\n",
       "      <td>David Cronenberg|Don DeLillo</td>\n",
       "      <td>Aug 17, 2012</td>\n",
       "      <td>Jan 1, 2013</td>\n",
       "      <td>$</td>\n",
       "      <td>600,000</td>\n",
       "      <td>108 minutes</td>\n",
       "      <td>Entertainment One</td>\n",
       "      <td>... a perverse twist on neorealism...</td>\n",
       "      <td>NaN</td>\n",
       "      <td>fresh</td>\n",
       "      <td>NaN</td>\n",
       "      <td>0</td>\n",
       "      <td>Cinema Scope</td>\n",
       "      <td>October 12, 2017</td>\n",
       "    </tr>\n",
       "  </tbody>\n",
       "</table>\n",
       "</div>"
      ],
      "text/plain": [
       "   id  \\\n",
       "0   3   \n",
       "1   3   \n",
       "2   3   \n",
       "3   3   \n",
       "4   3   \n",
       "\n",
       "                                                                                                                                                                                                                                                                                                                                                                                                                                                                                                                                                                                                                                                                                                                                                                                                                                                                                                                                    synopsis  \\\n",
       "0  New York City, not-too-distant-future: Eric Packer, a 28 year-old finance golden boy dreaming of living in a civilization ahead of this one, watches a dark shadow cast over the firmament of the Wall Street galaxy, of which he is the uncontested king. As he is chauffeured across midtown Manhattan to get a haircut at his father's old barber, his anxious eyes are glued to the yuan's exchange rate: it is mounting against all expectations, destroying Eric's bet against it. Eric Packer is losing his empire with every tick of the clock. Meanwhile, an eruption of wild activity unfolds in the city's streets. Petrified as the threats of the real world infringe upon his cloud of virtual convictions, his paranoia intensifies during the course of his 24-hour cross-town odyssey. Packer starts to piece together clues that lead him to a most terrifying secret: his imminent assassination. -- (C) Official Site   \n",
       "1  New York City, not-too-distant-future: Eric Packer, a 28 year-old finance golden boy dreaming of living in a civilization ahead of this one, watches a dark shadow cast over the firmament of the Wall Street galaxy, of which he is the uncontested king. As he is chauffeured across midtown Manhattan to get a haircut at his father's old barber, his anxious eyes are glued to the yuan's exchange rate: it is mounting against all expectations, destroying Eric's bet against it. Eric Packer is losing his empire with every tick of the clock. Meanwhile, an eruption of wild activity unfolds in the city's streets. Petrified as the threats of the real world infringe upon his cloud of virtual convictions, his paranoia intensifies during the course of his 24-hour cross-town odyssey. Packer starts to piece together clues that lead him to a most terrifying secret: his imminent assassination. -- (C) Official Site   \n",
       "2  New York City, not-too-distant-future: Eric Packer, a 28 year-old finance golden boy dreaming of living in a civilization ahead of this one, watches a dark shadow cast over the firmament of the Wall Street galaxy, of which he is the uncontested king. As he is chauffeured across midtown Manhattan to get a haircut at his father's old barber, his anxious eyes are glued to the yuan's exchange rate: it is mounting against all expectations, destroying Eric's bet against it. Eric Packer is losing his empire with every tick of the clock. Meanwhile, an eruption of wild activity unfolds in the city's streets. Petrified as the threats of the real world infringe upon his cloud of virtual convictions, his paranoia intensifies during the course of his 24-hour cross-town odyssey. Packer starts to piece together clues that lead him to a most terrifying secret: his imminent assassination. -- (C) Official Site   \n",
       "3  New York City, not-too-distant-future: Eric Packer, a 28 year-old finance golden boy dreaming of living in a civilization ahead of this one, watches a dark shadow cast over the firmament of the Wall Street galaxy, of which he is the uncontested king. As he is chauffeured across midtown Manhattan to get a haircut at his father's old barber, his anxious eyes are glued to the yuan's exchange rate: it is mounting against all expectations, destroying Eric's bet against it. Eric Packer is losing his empire with every tick of the clock. Meanwhile, an eruption of wild activity unfolds in the city's streets. Petrified as the threats of the real world infringe upon his cloud of virtual convictions, his paranoia intensifies during the course of his 24-hour cross-town odyssey. Packer starts to piece together clues that lead him to a most terrifying secret: his imminent assassination. -- (C) Official Site   \n",
       "4  New York City, not-too-distant-future: Eric Packer, a 28 year-old finance golden boy dreaming of living in a civilization ahead of this one, watches a dark shadow cast over the firmament of the Wall Street galaxy, of which he is the uncontested king. As he is chauffeured across midtown Manhattan to get a haircut at his father's old barber, his anxious eyes are glued to the yuan's exchange rate: it is mounting against all expectations, destroying Eric's bet against it. Eric Packer is losing his empire with every tick of the clock. Meanwhile, an eruption of wild activity unfolds in the city's streets. Petrified as the threats of the real world infringe upon his cloud of virtual convictions, his paranoia intensifies during the course of his 24-hour cross-town odyssey. Packer starts to piece together clues that lead him to a most terrifying secret: his imminent assassination. -- (C) Official Site   \n",
       "\n",
       "  rating_x                              genre          director  \\\n",
       "0        R  Drama|Science Fiction and Fantasy  David Cronenberg   \n",
       "1        R  Drama|Science Fiction and Fantasy  David Cronenberg   \n",
       "2        R  Drama|Science Fiction and Fantasy  David Cronenberg   \n",
       "3        R  Drama|Science Fiction and Fantasy  David Cronenberg   \n",
       "4        R  Drama|Science Fiction and Fantasy  David Cronenberg   \n",
       "\n",
       "                         writer  theater_date     dvd_date currency  \\\n",
       "0  David Cronenberg|Don DeLillo  Aug 17, 2012  Jan 1, 2013        $   \n",
       "1  David Cronenberg|Don DeLillo  Aug 17, 2012  Jan 1, 2013        $   \n",
       "2  David Cronenberg|Don DeLillo  Aug 17, 2012  Jan 1, 2013        $   \n",
       "3  David Cronenberg|Don DeLillo  Aug 17, 2012  Jan 1, 2013        $   \n",
       "4  David Cronenberg|Don DeLillo  Aug 17, 2012  Jan 1, 2013        $   \n",
       "\n",
       "  box_office      runtime             studio  \\\n",
       "0    600,000  108 minutes  Entertainment One   \n",
       "1    600,000  108 minutes  Entertainment One   \n",
       "2    600,000  108 minutes  Entertainment One   \n",
       "3    600,000  108 minutes  Entertainment One   \n",
       "4    600,000  108 minutes  Entertainment One   \n",
       "\n",
       "                                                                                                                                                                                                                                       review  \\\n",
       "0                                                                    A distinctly gallows take on contemporary financial mores, as one absurdly rich man's limo ride across town for a haircut functions as a state-of-the-nation discourse.    \n",
       "1                                                                                                                                      It's an allegory in search of a meaning that never arrives...It's just old-fashioned bad storytelling.   \n",
       "2    ... life lived in a bubble in financial dealings and digital communications and brief face-to-face conversations and sexual intermissions in a space shuttle of a limousine creeping through the gridlock of an anonymous New York City.   \n",
       "3  Continuing along a line introduced in last year's \"A Dangerous Method\", David Cronenberg pushes his cinema towards a talky abstraction in his uncanny, perversely funny and frighteningly insular adaptation of Don DeLillo, \"Cosmopolis\".   \n",
       "4                                                                                                                                                                                                      ... a perverse twist on neorealism...    \n",
       "\n",
       "  rating_y   fresh          critic  top_critic         publisher  \\\n",
       "0      3/5   fresh      PJ Nabarro           0   Patrick Nabarro   \n",
       "1      NaN  rotten  Annalee Newitz           0           io9.com   \n",
       "2      NaN   fresh    Sean Axmaker           0  Stream on Demand   \n",
       "3      NaN   fresh   Daniel Kasman           0              MUBI   \n",
       "4      NaN   fresh             NaN           0      Cinema Scope   \n",
       "\n",
       "                date  \n",
       "0  November 10, 2018  \n",
       "1       May 23, 2018  \n",
       "2    January 4, 2018  \n",
       "3  November 16, 2017  \n",
       "4   October 12, 2017  "
      ]
     },
     "execution_count": 23,
     "metadata": {},
     "output_type": "execute_result"
    }
   ],
   "source": [
    "RT_df = rt_info.merge(rt_reviews, how='inner', on='id')\n",
    "RT_df.head()"
   ]
  },
  {
   "cell_type": "markdown",
   "metadata": {},
   "source": [
    "Notice that there are two new columns: rating_x and rating_y. This is because both datasets contained a rating column, but for different types of ratings. We're only interested in the content rating, or 'rating_x', as we'll be using the 'fresh' column for data on movie reviews.\n",
    "\n",
    "We can use the <b>pandasql</b> package to easily create a subsetted dataframe with only the rating and review information."
   ]
  },
  {
   "cell_type": "code",
   "execution_count": 24,
   "metadata": {},
   "outputs": [
    {
     "data": {
      "text/html": [
       "<div>\n",
       "<style scoped>\n",
       "    .dataframe tbody tr th:only-of-type {\n",
       "        vertical-align: middle;\n",
       "    }\n",
       "\n",
       "    .dataframe tbody tr th {\n",
       "        vertical-align: top;\n",
       "    }\n",
       "\n",
       "    .dataframe thead th {\n",
       "        text-align: right;\n",
       "    }\n",
       "</style>\n",
       "<table border=\"1\" class=\"dataframe\">\n",
       "  <thead>\n",
       "    <tr style=\"text-align: right;\">\n",
       "      <th></th>\n",
       "      <th>id</th>\n",
       "      <th>rating_x</th>\n",
       "      <th>review</th>\n",
       "      <th>fresh</th>\n",
       "    </tr>\n",
       "  </thead>\n",
       "  <tbody>\n",
       "    <tr>\n",
       "      <th>0</th>\n",
       "      <td>3</td>\n",
       "      <td>R</td>\n",
       "      <td>A distinctly gallows take on contemporary financial mores, as one absurdly rich man's limo ride across town for a haircut functions as a state-of-the-nation discourse.</td>\n",
       "      <td>fresh</td>\n",
       "    </tr>\n",
       "    <tr>\n",
       "      <th>1</th>\n",
       "      <td>3</td>\n",
       "      <td>R</td>\n",
       "      <td>It's an allegory in search of a meaning that never arrives...It's just old-fashioned bad storytelling.</td>\n",
       "      <td>rotten</td>\n",
       "    </tr>\n",
       "    <tr>\n",
       "      <th>2</th>\n",
       "      <td>3</td>\n",
       "      <td>R</td>\n",
       "      <td>... life lived in a bubble in financial dealings and digital communications and brief face-to-face conversations and sexual intermissions in a space shuttle of a limousine creeping through the gridlock of an anonymous New York City.</td>\n",
       "      <td>fresh</td>\n",
       "    </tr>\n",
       "    <tr>\n",
       "      <th>3</th>\n",
       "      <td>3</td>\n",
       "      <td>R</td>\n",
       "      <td>Continuing along a line introduced in last year's \"A Dangerous Method\", David Cronenberg pushes his cinema towards a talky abstraction in his uncanny, perversely funny and frighteningly insular adaptation of Don DeLillo, \"Cosmopolis\".</td>\n",
       "      <td>fresh</td>\n",
       "    </tr>\n",
       "    <tr>\n",
       "      <th>4</th>\n",
       "      <td>3</td>\n",
       "      <td>R</td>\n",
       "      <td>... a perverse twist on neorealism...</td>\n",
       "      <td>fresh</td>\n",
       "    </tr>\n",
       "  </tbody>\n",
       "</table>\n",
       "</div>"
      ],
      "text/plain": [
       "   id rating_x  \\\n",
       "0   3        R   \n",
       "1   3        R   \n",
       "2   3        R   \n",
       "3   3        R   \n",
       "4   3        R   \n",
       "\n",
       "                                                                                                                                                                                                                                       review  \\\n",
       "0                                                                    A distinctly gallows take on contemporary financial mores, as one absurdly rich man's limo ride across town for a haircut functions as a state-of-the-nation discourse.    \n",
       "1                                                                                                                                      It's an allegory in search of a meaning that never arrives...It's just old-fashioned bad storytelling.   \n",
       "2    ... life lived in a bubble in financial dealings and digital communications and brief face-to-face conversations and sexual intermissions in a space shuttle of a limousine creeping through the gridlock of an anonymous New York City.   \n",
       "3  Continuing along a line introduced in last year's \"A Dangerous Method\", David Cronenberg pushes his cinema towards a talky abstraction in his uncanny, perversely funny and frighteningly insular adaptation of Don DeLillo, \"Cosmopolis\".   \n",
       "4                                                                                                                                                                                                      ... a perverse twist on neorealism...    \n",
       "\n",
       "    fresh  \n",
       "0   fresh  \n",
       "1  rotten  \n",
       "2   fresh  \n",
       "3   fresh  \n",
       "4   fresh  "
      ]
     },
     "execution_count": 24,
     "metadata": {},
     "output_type": "execute_result"
    }
   ],
   "source": [
    "from pandasql import sqldf\n",
    "\n",
    "#helper function to specify global variables for every query\n",
    "pysqldf = lambda q: sqldf(q, globals())\n",
    "\n",
    "#select relevant columns and overwrite RT_df\n",
    "q = \"\"\"select id, rating_x, review, fresh from RT_df;\"\"\"\n",
    "RT_df = pysqldf(q)\n",
    "RT_df.head()"
   ]
  },
  {
   "cell_type": "markdown",
   "metadata": {},
   "source": [
    "Finally, we'll want to organize this data by the frequency of 'fresh' and 'rotten' values for each movie rating. On Rotten Tomatoes, a positively reviewed film is given the status of 'fresh', while a negatively reviewed film is 'rotten.' In the analysis section, we can compare the frequency of these values for each content rating as a measure of popularity.\n",
    "\n",
    "The below function takes the rating as an input, creates a frequency dictionary for that rating, and updates the 'fresh' and 'rotten' values each time one of these values occurs in a RT_df row:"
   ]
  },
  {
   "cell_type": "code",
   "execution_count": 25,
   "metadata": {},
   "outputs": [],
   "source": [
    "def create_freshness_dict(rating):\n",
    "    rating_dict = {'rating': rating, 'Fresh': 0, 'Rotten': 0}\n",
    "    for i in range(len(RT_df)):\n",
    "        if RT_df['rating_x'][i] == rating and RT_df['fresh'][i] == 'fresh':\n",
    "            rating_dict['Fresh'] += 1\n",
    "        elif RT_df['rating_x'][i] == rating and RT_df['fresh'][i] == 'rotten':\n",
    "            rating_dict['Rotten'] += 1\n",
    "    return rating_dict"
   ]
  },
  {
   "cell_type": "code",
   "execution_count": 26,
   "metadata": {},
   "outputs": [],
   "source": [
    "#create list of rating types\n",
    "Rating_Types = ['R', 'PG', 'PG-13', 'G', 'NR']"
   ]
  },
  {
   "cell_type": "code",
   "execution_count": 27,
   "metadata": {},
   "outputs": [
    {
     "data": {
      "text/plain": [
       "[{'rating': 'R', 'Fresh': 15561, 'Rotten': 8810},\n",
       " {'rating': 'PG', 'Fresh': 5286, 'Rotten': 2960},\n",
       " {'rating': 'PG-13', 'Fresh': 9303, 'Rotten': 8705},\n",
       " {'rating': 'G', 'Fresh': 774, 'Rotten': 297},\n",
       " {'rating': 'NR', 'Fresh': 2045, 'Rotten': 605}]"
      ]
     },
     "execution_count": 27,
     "metadata": {},
     "output_type": "execute_result"
    }
   ],
   "source": [
    "#Using the above list and a for loop, apply the function to every content rating, \n",
    "#and store it in a list of dictionaries.\n",
    "\n",
    "RT_Fresh = []\n",
    "for r in Rating_Types:\n",
    "    RT_Fresh.append(create_freshness_dict(r))\n",
    "RT_Fresh"
   ]
  },
  {
   "cell_type": "markdown",
   "metadata": {},
   "source": [
    "# Analysis \n",
    "\n",
    "### Question 1: What types of movies are the most popular?\n",
    "\n",
    "To answer this question, we'll look at data on both movie genres (IMBD) and movie content ratings (Rotten Tomatoes). We'll use genre frequency and freshness ratings, respectively, as measures of popularity. Let's begin by exploring the IMBD data. \n",
    "\n",
    "#### IMBD: What are the most common movie genres?\n",
    "This sub-question assumes that other companies produce more of the types of movies that they have been found to be most popular, which will be useful knowledge for determing which types of movies our company should create.  The question can be answered by using data from the genre column to get information about the prevalence of individual genres. As it stands, most rows contain a combination of multiple genres, which results in a large number of unique values:"
   ]
  },
  {
   "cell_type": "code",
   "execution_count": 28,
   "metadata": {},
   "outputs": [
    {
     "data": {
      "text/plain": [
       "262"
      ]
     },
     "execution_count": 28,
     "metadata": {},
     "output_type": "execute_result"
    }
   ],
   "source": [
    "len(IMBD_df['genres'].unique())"
   ]
  },
  {
   "cell_type": "markdown",
   "metadata": {},
   "source": [
    "We want to reorganize these genre combinations into data on individual genres, the count for which we can expect to be much lower. Let's start by making an empty list and populating it with unique genres."
   ]
  },
  {
   "cell_type": "code",
   "execution_count": 29,
   "metadata": {},
   "outputs": [],
   "source": [
    "#Create empty genres list\n",
    "genres = []\n",
    "\n",
    "#loop through genres column\n",
    "for row in IMBD_df['genres']:\n",
    "    #convert string in each row to a list of genres\n",
    "    row_list =  str(row).strip().split(',')\n",
    "    #loop through each row's list of genres and populate the genres list created in the cell's first line\n",
    "    for genre in row_list:\n",
    "        if genre not in genres:\n",
    "            genres.append(genre)"
   ]
  },
  {
   "cell_type": "code",
   "execution_count": 30,
   "metadata": {},
   "outputs": [
    {
     "name": "stdout",
     "output_type": "stream",
     "text": [
      "['Adventure', 'Animation', 'Comedy', 'Action', 'Sci-Fi', 'Drama', 'Fantasy', 'Family', 'Biography', 'History', 'Thriller', 'Romance', 'Horror', 'Mystery', 'Western', 'Crime', 'Sport', 'War', 'Music', 'Musical', 'Documentary', 'News']\n",
      "22\n"
     ]
    }
   ],
   "source": [
    "print(genres)\n",
    "print(len(genres))"
   ]
  },
  {
   "cell_type": "markdown",
   "metadata": {},
   "source": [
    "There were 262 genre combinations, but only 22 unique genres. This is a much easier number to work with. Now let's make a list of the frequencies for each genre."
   ]
  },
  {
   "cell_type": "code",
   "execution_count": 31,
   "metadata": {},
   "outputs": [
    {
     "data": {
      "text/plain": [
       "{'Drama': 959,\n",
       " 'Comedy': 654,\n",
       " 'Action': 520,\n",
       " 'Adventure': 362,\n",
       " 'Romance': 300,\n",
       " 'Thriller': 286,\n",
       " 'Crime': 267,\n",
       " 'Biography': 191,\n",
       " 'Horror': 145,\n",
       " 'Mystery': 131,\n",
       " 'Fantasy': 123,\n",
       " 'Animation': 114,\n",
       " 'Documentary': 110,\n",
       " 'Sci-Fi': 108,\n",
       " 'Family': 81,\n",
       " 'History': 74,\n",
       " 'Music': 61,\n",
       " 'Sport': 35,\n",
       " 'War': 23,\n",
       " 'Musical': 12,\n",
       " 'Western': 11,\n",
       " 'News': 1}"
      ]
     },
     "execution_count": 31,
     "metadata": {},
     "output_type": "execute_result"
    }
   ],
   "source": [
    "#create frequency dictionary \n",
    "genre_freqs = {}\n",
    "\n",
    "#import operator module for sorting dictionary items by value counts\n",
    "import operator\n",
    "\n",
    "#loop through genres list\n",
    "for genre in genres:\n",
    "    genre_freqs[genre] = 0\n",
    "    #update frequency dictionary with frequencies for each genre\n",
    "    for row in IMBD_df['genres']:\n",
    "        row_list =  str(row).strip().split(',')\n",
    "        if genre in row_list:\n",
    "            genre_freqs[genre] += 1\n",
    "            \n",
    "#sort frequency dictionary by values\n",
    "sorted_genres = dict(sorted(genre_freqs.items(), key=operator.itemgetter(1), reverse=True))\n",
    "sorted_genres"
   ]
  },
  {
   "cell_type": "markdown",
   "metadata": {},
   "source": [
    "Time to plot these frequencies! The first step is to assign the frequencies to the values that will be plotted on the y axis, and the genres to the x-axis values."
   ]
  },
  {
   "cell_type": "code",
   "execution_count": 32,
   "metadata": {},
   "outputs": [],
   "source": [
    "x = list(sorted_genres.keys())\n",
    "y = list(sorted_genres.values())"
   ]
  },
  {
   "cell_type": "markdown",
   "metadata": {},
   "source": [
    "We'll use <b>matplotlib</b> to plot the frequencies:"
   ]
  },
  {
   "cell_type": "code",
   "execution_count": 33,
   "metadata": {
    "scrolled": false
   },
   "outputs": [
    {
     "data": {
      "image/png": "[encoded data removed]",
      "text/plain": [
       "<Figure size 1080x1080 with 1 Axes>"
      ]
     },
     "metadata": {
      "needs_background": "light"
     },
     "output_type": "display_data"
    }
   ],
   "source": [
    "import matplotlib.pyplot as plt\n",
    "%matplotlib inline\n",
    "\n",
    "plt.rcParams['axes.facecolor'] = 'lavender'\n",
    "#create a figure with large width to display all genres clearly\n",
    "plt.figure(figsize = (15,15))\n",
    "\n",
    "\n",
    "#make a bar plot on the figure\n",
    "plt.barh(x, y, color = 'midnightblue', edgecolor='1')\n",
    "\n",
    "#label the axes, title, and ticks\n",
    "plt.xlabel('Frequency', fontsize=30, fontname='Silom')\n",
    "plt.ylabel('Genres', fontsize=30, fontname='Silom')\n",
    "plt.xticks(fontsize=20, fontname='Silom')\n",
    "plt.yticks(fontsize=22, fontname='Silom')\n",
    "plt.title('Most Common Movie Genres', fontsize=35, fontname='Silom')\n",
    "\n",
    "#display the plot\n",
    "plt.show()"
   ]
  },
  {
   "cell_type": "markdown",
   "metadata": {},
   "source": [
    "As this bar graph shows, drama, comedy, action and adventure are the most common genres. On the other end of the plot, we see that news, western, and musical films are quite rare. "
   ]
  },
  {
   "cell_type": "markdown",
   "metadata": {},
   "source": [
    "#### Rotten Tomatoes: What are the 'freshest' content ratings?\n",
    "This sub-question will make use of the Rotten Tomatoes dictionaries created earlier to explore the distribution of 'fresh' and 'rotten' reviews for each content rating. Let's convert the list to a dataframe to make it more readable."
   ]
  },
  {
   "cell_type": "code",
   "execution_count": 34,
   "metadata": {},
   "outputs": [
    {
     "data": {
      "text/html": [
       "<div>\n",
       "<style scoped>\n",
       "    .dataframe tbody tr th:only-of-type {\n",
       "        vertical-align: middle;\n",
       "    }\n",
       "\n",
       "    .dataframe tbody tr th {\n",
       "        vertical-align: top;\n",
       "    }\n",
       "\n",
       "    .dataframe thead th {\n",
       "        text-align: right;\n",
       "    }\n",
       "</style>\n",
       "<table border=\"1\" class=\"dataframe\">\n",
       "  <thead>\n",
       "    <tr style=\"text-align: right;\">\n",
       "      <th></th>\n",
       "      <th>rating</th>\n",
       "      <th>Fresh</th>\n",
       "      <th>Rotten</th>\n",
       "    </tr>\n",
       "  </thead>\n",
       "  <tbody>\n",
       "    <tr>\n",
       "      <th>0</th>\n",
       "      <td>R</td>\n",
       "      <td>15561</td>\n",
       "      <td>8810</td>\n",
       "    </tr>\n",
       "    <tr>\n",
       "      <th>1</th>\n",
       "      <td>PG</td>\n",
       "      <td>5286</td>\n",
       "      <td>2960</td>\n",
       "    </tr>\n",
       "    <tr>\n",
       "      <th>2</th>\n",
       "      <td>PG-13</td>\n",
       "      <td>9303</td>\n",
       "      <td>8705</td>\n",
       "    </tr>\n",
       "    <tr>\n",
       "      <th>3</th>\n",
       "      <td>G</td>\n",
       "      <td>774</td>\n",
       "      <td>297</td>\n",
       "    </tr>\n",
       "    <tr>\n",
       "      <th>4</th>\n",
       "      <td>NR</td>\n",
       "      <td>2045</td>\n",
       "      <td>605</td>\n",
       "    </tr>\n",
       "  </tbody>\n",
       "</table>\n",
       "</div>"
      ],
      "text/plain": [
       "  rating  Fresh  Rotten\n",
       "0      R  15561    8810\n",
       "1     PG   5286    2960\n",
       "2  PG-13   9303    8705\n",
       "3      G    774     297\n",
       "4     NR   2045     605"
      ]
     },
     "execution_count": 34,
     "metadata": {},
     "output_type": "execute_result"
    }
   ],
   "source": [
    "RT_Fresh_df = df = pd.DataFrame(RT_Fresh)\n",
    "RT_Fresh_df"
   ]
  },
  {
   "cell_type": "markdown",
   "metadata": {},
   "source": [
    "To convert the above numbers into percentages for easy comparison, we'll sum the reviews, divide 'fresh' and 'rotten' reviews by the sum, and muliply each by 100. We'll round these numbers to ensure that the percentages add up to 100 in each row."
   ]
  },
  {
   "cell_type": "code",
   "execution_count": 35,
   "metadata": {},
   "outputs": [
    {
     "name": "stderr",
     "output_type": "stream",
     "text": [
      "/opt/anaconda3/envs/learn-env/lib/python3.6/site-packages/ipykernel_launcher.py:3: SettingWithCopyWarning: \n",
      "A value is trying to be set on a copy of a slice from a DataFrame\n",
      "\n",
      "See the caveats in the documentation: https://pandas.pydata.org/pandas-docs/stable/user_guide/indexing.html#returning-a-view-versus-a-copy\n",
      "  This is separate from the ipykernel package so we can avoid doing imports until\n",
      "/opt/anaconda3/envs/learn-env/lib/python3.6/site-packages/ipykernel_launcher.py:4: SettingWithCopyWarning: \n",
      "A value is trying to be set on a copy of a slice from a DataFrame\n",
      "\n",
      "See the caveats in the documentation: https://pandas.pydata.org/pandas-docs/stable/user_guide/indexing.html#returning-a-view-versus-a-copy\n",
      "  after removing the cwd from sys.path.\n"
     ]
    },
    {
     "data": {
      "text/html": [
       "<div>\n",
       "<style scoped>\n",
       "    .dataframe tbody tr th:only-of-type {\n",
       "        vertical-align: middle;\n",
       "    }\n",
       "\n",
       "    .dataframe tbody tr th {\n",
       "        vertical-align: top;\n",
       "    }\n",
       "\n",
       "    .dataframe thead th {\n",
       "        text-align: right;\n",
       "    }\n",
       "</style>\n",
       "<table border=\"1\" class=\"dataframe\">\n",
       "  <thead>\n",
       "    <tr style=\"text-align: right;\">\n",
       "      <th></th>\n",
       "      <th>rating</th>\n",
       "      <th>Fresh</th>\n",
       "      <th>Rotten</th>\n",
       "    </tr>\n",
       "  </thead>\n",
       "  <tbody>\n",
       "    <tr>\n",
       "      <th>0</th>\n",
       "      <td>R</td>\n",
       "      <td>64</td>\n",
       "      <td>36</td>\n",
       "    </tr>\n",
       "    <tr>\n",
       "      <th>1</th>\n",
       "      <td>PG</td>\n",
       "      <td>64</td>\n",
       "      <td>36</td>\n",
       "    </tr>\n",
       "    <tr>\n",
       "      <th>2</th>\n",
       "      <td>PG-13</td>\n",
       "      <td>52</td>\n",
       "      <td>48</td>\n",
       "    </tr>\n",
       "    <tr>\n",
       "      <th>3</th>\n",
       "      <td>G</td>\n",
       "      <td>72</td>\n",
       "      <td>28</td>\n",
       "    </tr>\n",
       "    <tr>\n",
       "      <th>4</th>\n",
       "      <td>NR</td>\n",
       "      <td>77</td>\n",
       "      <td>23</td>\n",
       "    </tr>\n",
       "  </tbody>\n",
       "</table>\n",
       "</div>"
      ],
      "text/plain": [
       "  rating  Fresh  Rotten\n",
       "0      R     64      36\n",
       "1     PG     64      36\n",
       "2  PG-13     52      48\n",
       "3      G     72      28\n",
       "4     NR     77      23"
      ]
     },
     "execution_count": 35,
     "metadata": {},
     "output_type": "execute_result"
    }
   ],
   "source": [
    "for i in range(len(RT_Fresh_df)):\n",
    "    total =  RT_Fresh_df['Fresh'][i] + RT_Fresh_df['Rotten'][i]\n",
    "    RT_Fresh_df['Fresh'][i] = round((RT_Fresh_df['Fresh'][i]/total)*100, 0)\n",
    "    RT_Fresh_df['Rotten'][i] = round((RT_Fresh_df['Rotten'][i]/total)*100, 0)\n",
    "RT_Fresh_df"
   ]
  },
  {
   "cell_type": "markdown",
   "metadata": {},
   "source": [
    "Finally, we'll sort these rows from highest to lowest 'fresh' rating percentages, and plot the review categories side-by-side on a bar graph.  "
   ]
  },
  {
   "cell_type": "code",
   "execution_count": 36,
   "metadata": {},
   "outputs": [],
   "source": [
    "#sort by fresh ratings\n",
    "q = \"\"\"select * from RT_Fresh_df order by Fresh desc;\"\"\"\n",
    "RT_Fresh_df = pd.DataFrame(pysqldf(q))"
   ]
  },
  {
   "cell_type": "code",
   "execution_count": 37,
   "metadata": {
    "scrolled": false
   },
   "outputs": [
    {
     "data": {
      "text/plain": [
       "Text(0, 0.5, 'Percentage of Reviews')"
      ]
     },
     "execution_count": 37,
     "metadata": {},
     "output_type": "execute_result"
    },
    {
     "data": {
      "image/png": "[encoded data removed]",
      "text/plain": [
       "<Figure size 1080x720 with 1 Axes>"
      ]
     },
     "metadata": {
      "needs_background": "light"
     },
     "output_type": "display_data"
    }
   ],
   "source": [
    "#set plot background color\n",
    "plt.rcParams['axes.facecolor'] = 'lavender'\n",
    "\n",
    "#plot df\n",
    "ax = RT_Fresh_df.plot(figsize=(15,10),kind='bar', x = 'rating', colormap='RdYlGn')\n",
    "\n",
    "#set title and axes labels\n",
    "ax.set_title(\"Rotten Tomatoes Reviews by Content Rating\", fontname='Silom', fontsize=30)\n",
    "ax.set_xlabel('Rating', fontname='serif', fontsize=20)\n",
    "ax.set_ylabel(\"Percentage of Reviews\", fontname='serif', fontsize=20)"
   ]
  },
  {
   "cell_type": "markdown",
   "metadata": {},
   "source": [
    "Unrated and G-rated movies have the highest percentage of fresh reviews. For all content rating categories, the percentage of fresh reviews exceeds that of the rotten reviews. For PG-13 films, however, the percentage of fresh and rotten reviews are closer together than for films of any other content rating."
   ]
  },
  {
   "cell_type": "markdown",
   "metadata": {},
   "source": [
    "### Question 2: What are the highest-grossing movie genres?\n",
    "To answer this question, we will need to group films of the same genre together and arrange them in descending order by their domestic gross values."
   ]
  },
  {
   "cell_type": "code",
   "execution_count": 38,
   "metadata": {},
   "outputs": [
    {
     "data": {
      "text/html": [
       "<div>\n",
       "<style scoped>\n",
       "    .dataframe tbody tr th:only-of-type {\n",
       "        vertical-align: middle;\n",
       "    }\n",
       "\n",
       "    .dataframe tbody tr th {\n",
       "        vertical-align: top;\n",
       "    }\n",
       "\n",
       "    .dataframe thead th {\n",
       "        text-align: right;\n",
       "    }\n",
       "</style>\n",
       "<table border=\"1\" class=\"dataframe\">\n",
       "  <thead>\n",
       "    <tr style=\"text-align: right;\">\n",
       "      <th></th>\n",
       "      <th>title</th>\n",
       "      <th>domestic_gross</th>\n",
       "      <th>genres</th>\n",
       "    </tr>\n",
       "  </thead>\n",
       "  <tbody>\n",
       "    <tr>\n",
       "      <th>0</th>\n",
       "      <td>Toy Story 3</td>\n",
       "      <td>415000000.0</td>\n",
       "      <td>Adventure,Animation,Comedy</td>\n",
       "    </tr>\n",
       "    <tr>\n",
       "      <th>1</th>\n",
       "      <td>The Twilight Saga: Eclipse</td>\n",
       "      <td>300500000.0</td>\n",
       "      <td>Adventure,Drama,Fantasy</td>\n",
       "    </tr>\n",
       "    <tr>\n",
       "      <th>2</th>\n",
       "      <td>Inception</td>\n",
       "      <td>292600000.0</td>\n",
       "      <td>Action,Adventure,Sci-Fi</td>\n",
       "    </tr>\n",
       "    <tr>\n",
       "      <th>3</th>\n",
       "      <td>The Hobbit: The Desolation of Smaug</td>\n",
       "      <td>258399999.0</td>\n",
       "      <td>Adventure,Fantasy</td>\n",
       "    </tr>\n",
       "    <tr>\n",
       "      <th>4</th>\n",
       "      <td>The Hangover Part II</td>\n",
       "      <td>254500000.0</td>\n",
       "      <td>Comedy,Mystery</td>\n",
       "    </tr>\n",
       "    <tr>\n",
       "      <th>...</th>\n",
       "      <td>...</td>\n",
       "      <td>...</td>\n",
       "      <td>...</td>\n",
       "    </tr>\n",
       "    <tr>\n",
       "      <th>257</th>\n",
       "      <td>Universal Soldier: Day of Reckoning</td>\n",
       "      <td>5500.0</td>\n",
       "      <td>Action,Horror,Mystery</td>\n",
       "    </tr>\n",
       "    <tr>\n",
       "      <th>258</th>\n",
       "      <td>Flypaper</td>\n",
       "      <td>5000.0</td>\n",
       "      <td>Comedy,Crime,Mystery</td>\n",
       "    </tr>\n",
       "    <tr>\n",
       "      <th>259</th>\n",
       "      <td>As Good as Dead</td>\n",
       "      <td>2000.0</td>\n",
       "      <td>Crime,Thriller</td>\n",
       "    </tr>\n",
       "    <tr>\n",
       "      <th>260</th>\n",
       "      <td>Open Windows</td>\n",
       "      <td>1800.0</td>\n",
       "      <td>Crime,Horror,Thriller</td>\n",
       "    </tr>\n",
       "    <tr>\n",
       "      <th>261</th>\n",
       "      <td>I Still See You</td>\n",
       "      <td>1400.0</td>\n",
       "      <td>Fantasy,Thriller</td>\n",
       "    </tr>\n",
       "  </tbody>\n",
       "</table>\n",
       "<p>262 rows × 3 columns</p>\n",
       "</div>"
      ],
      "text/plain": [
       "                                   title  domestic_gross  \\\n",
       "0                            Toy Story 3     415000000.0   \n",
       "1             The Twilight Saga: Eclipse     300500000.0   \n",
       "2                              Inception     292600000.0   \n",
       "3    The Hobbit: The Desolation of Smaug     258399999.0   \n",
       "4                   The Hangover Part II     254500000.0   \n",
       "..                                   ...             ...   \n",
       "257  Universal Soldier: Day of Reckoning          5500.0   \n",
       "258                             Flypaper          5000.0   \n",
       "259                      As Good as Dead          2000.0   \n",
       "260                         Open Windows          1800.0   \n",
       "261                      I Still See You          1400.0   \n",
       "\n",
       "                         genres  \n",
       "0    Adventure,Animation,Comedy  \n",
       "1       Adventure,Drama,Fantasy  \n",
       "2       Action,Adventure,Sci-Fi  \n",
       "3             Adventure,Fantasy  \n",
       "4                Comedy,Mystery  \n",
       "..                          ...  \n",
       "257       Action,Horror,Mystery  \n",
       "258        Comedy,Crime,Mystery  \n",
       "259              Crime,Thriller  \n",
       "260       Crime,Horror,Thriller  \n",
       "261            Fantasy,Thriller  \n",
       "\n",
       "[262 rows x 3 columns]"
      ]
     },
     "execution_count": 38,
     "metadata": {},
     "output_type": "execute_result"
    }
   ],
   "source": [
    "#query to get the gross and genres columns, \n",
    "#group the genres together, \n",
    "#and arrange them from highest to lowest domestic gross \n",
    "\n",
    "q = \"\"\"select title, domestic_gross, genres from IMBD_df group by genres order by domestic_gross desc;\"\"\"\n",
    "\n",
    "#create a data frame from the query output and assign it to 'dom_gross_df'\n",
    "dom_gross_df = pd.DataFrame(pysqldf(q))\n",
    "\n",
    "#preview new dataframe\n",
    "dom_gross_df"
   ]
  },
  {
   "cell_type": "markdown",
   "metadata": {},
   "source": [
    "This dataframe has only the variables we are interested in, arranged by genre combination and domestic gross values. However, as with the last question, we want to calculate the domestic gross values for each *individual* genre to see which are the highest-grossing. \n",
    "\n",
    "We'll first calculate the total gross sums, then calculate the average gross values, for each genre. The first step is to make a list of all the unique genres."
   ]
  },
  {
   "cell_type": "code",
   "execution_count": 39,
   "metadata": {},
   "outputs": [],
   "source": [
    "genre_lists = []\n",
    "for row in dom_gross_df['genres']:\n",
    "    row = row.split(\",\")\n",
    "    genre_lists.append(row)"
   ]
  },
  {
   "cell_type": "markdown",
   "metadata": {},
   "source": [
    "Now let's set the 'genres' column equal to this list, and preview it:"
   ]
  },
  {
   "cell_type": "code",
   "execution_count": 40,
   "metadata": {},
   "outputs": [
    {
     "data": {
      "text/plain": [
       "0    [Adventure, Animation, Comedy]\n",
       "1       [Adventure, Drama, Fantasy]\n",
       "2       [Action, Adventure, Sci-Fi]\n",
       "3              [Adventure, Fantasy]\n",
       "4                 [Comedy, Mystery]\n",
       "Name: genres, dtype: object"
      ]
     },
     "execution_count": 40,
     "metadata": {},
     "output_type": "execute_result"
    }
   ],
   "source": [
    "dom_gross_df['genres'] = genre_lists\n",
    "dom_gross_df['genres'][0:5]"
   ]
  },
  {
   "cell_type": "markdown",
   "metadata": {},
   "source": [
    "Great! We'll now make a column for each genre:"
   ]
  },
  {
   "cell_type": "code",
   "execution_count": 41,
   "metadata": {},
   "outputs": [
    {
     "data": {
      "text/html": [
       "<div>\n",
       "<style scoped>\n",
       "    .dataframe tbody tr th:only-of-type {\n",
       "        vertical-align: middle;\n",
       "    }\n",
       "\n",
       "    .dataframe tbody tr th {\n",
       "        vertical-align: top;\n",
       "    }\n",
       "\n",
       "    .dataframe thead th {\n",
       "        text-align: right;\n",
       "    }\n",
       "</style>\n",
       "<table border=\"1\" class=\"dataframe\">\n",
       "  <thead>\n",
       "    <tr style=\"text-align: right;\">\n",
       "      <th></th>\n",
       "      <th>title</th>\n",
       "      <th>domestic_gross</th>\n",
       "      <th>genres</th>\n",
       "      <th>Adventure</th>\n",
       "      <th>Animation</th>\n",
       "      <th>Comedy</th>\n",
       "      <th>Action</th>\n",
       "      <th>Sci-Fi</th>\n",
       "      <th>Drama</th>\n",
       "      <th>Fantasy</th>\n",
       "      <th>...</th>\n",
       "      <th>Horror</th>\n",
       "      <th>Mystery</th>\n",
       "      <th>Western</th>\n",
       "      <th>Crime</th>\n",
       "      <th>Sport</th>\n",
       "      <th>War</th>\n",
       "      <th>Music</th>\n",
       "      <th>Musical</th>\n",
       "      <th>Documentary</th>\n",
       "      <th>News</th>\n",
       "    </tr>\n",
       "  </thead>\n",
       "  <tbody>\n",
       "    <tr>\n",
       "      <th>0</th>\n",
       "      <td>Toy Story 3</td>\n",
       "      <td>415000000.0</td>\n",
       "      <td>[Adventure, Animation, Comedy]</td>\n",
       "      <td>0</td>\n",
       "      <td>0</td>\n",
       "      <td>0</td>\n",
       "      <td>0</td>\n",
       "      <td>0</td>\n",
       "      <td>0</td>\n",
       "      <td>0</td>\n",
       "      <td>...</td>\n",
       "      <td>0</td>\n",
       "      <td>0</td>\n",
       "      <td>0</td>\n",
       "      <td>0</td>\n",
       "      <td>0</td>\n",
       "      <td>0</td>\n",
       "      <td>0</td>\n",
       "      <td>0</td>\n",
       "      <td>0</td>\n",
       "      <td>0</td>\n",
       "    </tr>\n",
       "    <tr>\n",
       "      <th>1</th>\n",
       "      <td>The Twilight Saga: Eclipse</td>\n",
       "      <td>300500000.0</td>\n",
       "      <td>[Adventure, Drama, Fantasy]</td>\n",
       "      <td>0</td>\n",
       "      <td>0</td>\n",
       "      <td>0</td>\n",
       "      <td>0</td>\n",
       "      <td>0</td>\n",
       "      <td>0</td>\n",
       "      <td>0</td>\n",
       "      <td>...</td>\n",
       "      <td>0</td>\n",
       "      <td>0</td>\n",
       "      <td>0</td>\n",
       "      <td>0</td>\n",
       "      <td>0</td>\n",
       "      <td>0</td>\n",
       "      <td>0</td>\n",
       "      <td>0</td>\n",
       "      <td>0</td>\n",
       "      <td>0</td>\n",
       "    </tr>\n",
       "    <tr>\n",
       "      <th>2</th>\n",
       "      <td>Inception</td>\n",
       "      <td>292600000.0</td>\n",
       "      <td>[Action, Adventure, Sci-Fi]</td>\n",
       "      <td>0</td>\n",
       "      <td>0</td>\n",
       "      <td>0</td>\n",
       "      <td>0</td>\n",
       "      <td>0</td>\n",
       "      <td>0</td>\n",
       "      <td>0</td>\n",
       "      <td>...</td>\n",
       "      <td>0</td>\n",
       "      <td>0</td>\n",
       "      <td>0</td>\n",
       "      <td>0</td>\n",
       "      <td>0</td>\n",
       "      <td>0</td>\n",
       "      <td>0</td>\n",
       "      <td>0</td>\n",
       "      <td>0</td>\n",
       "      <td>0</td>\n",
       "    </tr>\n",
       "    <tr>\n",
       "      <th>3</th>\n",
       "      <td>The Hobbit: The Desolation of Smaug</td>\n",
       "      <td>258399999.0</td>\n",
       "      <td>[Adventure, Fantasy]</td>\n",
       "      <td>0</td>\n",
       "      <td>0</td>\n",
       "      <td>0</td>\n",
       "      <td>0</td>\n",
       "      <td>0</td>\n",
       "      <td>0</td>\n",
       "      <td>0</td>\n",
       "      <td>...</td>\n",
       "      <td>0</td>\n",
       "      <td>0</td>\n",
       "      <td>0</td>\n",
       "      <td>0</td>\n",
       "      <td>0</td>\n",
       "      <td>0</td>\n",
       "      <td>0</td>\n",
       "      <td>0</td>\n",
       "      <td>0</td>\n",
       "      <td>0</td>\n",
       "    </tr>\n",
       "    <tr>\n",
       "      <th>4</th>\n",
       "      <td>The Hangover Part II</td>\n",
       "      <td>254500000.0</td>\n",
       "      <td>[Comedy, Mystery]</td>\n",
       "      <td>0</td>\n",
       "      <td>0</td>\n",
       "      <td>0</td>\n",
       "      <td>0</td>\n",
       "      <td>0</td>\n",
       "      <td>0</td>\n",
       "      <td>0</td>\n",
       "      <td>...</td>\n",
       "      <td>0</td>\n",
       "      <td>0</td>\n",
       "      <td>0</td>\n",
       "      <td>0</td>\n",
       "      <td>0</td>\n",
       "      <td>0</td>\n",
       "      <td>0</td>\n",
       "      <td>0</td>\n",
       "      <td>0</td>\n",
       "      <td>0</td>\n",
       "    </tr>\n",
       "  </tbody>\n",
       "</table>\n",
       "<p>5 rows × 25 columns</p>\n",
       "</div>"
      ],
      "text/plain": [
       "                                 title  domestic_gross  \\\n",
       "0                          Toy Story 3     415000000.0   \n",
       "1           The Twilight Saga: Eclipse     300500000.0   \n",
       "2                            Inception     292600000.0   \n",
       "3  The Hobbit: The Desolation of Smaug     258399999.0   \n",
       "4                 The Hangover Part II     254500000.0   \n",
       "\n",
       "                           genres  Adventure  Animation  Comedy  Action  \\\n",
       "0  [Adventure, Animation, Comedy]          0          0       0       0   \n",
       "1     [Adventure, Drama, Fantasy]          0          0       0       0   \n",
       "2     [Action, Adventure, Sci-Fi]          0          0       0       0   \n",
       "3            [Adventure, Fantasy]          0          0       0       0   \n",
       "4               [Comedy, Mystery]          0          0       0       0   \n",
       "\n",
       "   Sci-Fi  Drama  Fantasy  ...  Horror  Mystery  Western  Crime  Sport  War  \\\n",
       "0       0      0        0  ...       0        0        0      0      0    0   \n",
       "1       0      0        0  ...       0        0        0      0      0    0   \n",
       "2       0      0        0  ...       0        0        0      0      0    0   \n",
       "3       0      0        0  ...       0        0        0      0      0    0   \n",
       "4       0      0        0  ...       0        0        0      0      0    0   \n",
       "\n",
       "   Music  Musical  Documentary  News  \n",
       "0      0        0            0     0  \n",
       "1      0        0            0     0  \n",
       "2      0        0            0     0  \n",
       "3      0        0            0     0  \n",
       "4      0        0            0     0  \n",
       "\n",
       "[5 rows x 25 columns]"
      ]
     },
     "execution_count": 41,
     "metadata": {},
     "output_type": "execute_result"
    }
   ],
   "source": [
    "for genre in genres:\n",
    "    dom_gross_df[genre] = 0\n",
    "dom_gross_df.head()"
   ]
  },
  {
   "cell_type": "markdown",
   "metadata": {},
   "source": [
    "The below function will take a genre column from the dataframe, and create a list of calculated gross values for each row. Later, we can sum these values to get the total gross amount for each genre."
   ]
  },
  {
   "cell_type": "code",
   "execution_count": 42,
   "metadata": {},
   "outputs": [],
   "source": [
    "def calculate_genre_gross(column):\n",
    "    \n",
    "    #list of gross values\n",
    "    genre_gross = []\n",
    "    \n",
    "    #iterate through each row\n",
    "    for i in range(len(dom_gross_df)):\n",
    "        \n",
    "        #specify only those rows where the column's genre appears in the genre list \n",
    "        if column in dom_gross_df['genres'][i]:\n",
    "            \n",
    "            #divide total dom gross by number of genres in the list\n",
    "            dom_gross_df[column][i] = dom_gross_df['domestic_gross'][i]/len(dom_gross_df['genres'][i])\n",
    "        \n",
    "        #update the genre_gross list with the values for each row, and return it   \n",
    "        genre_gross.append(dom_gross_df[column][i])\n",
    "    return genre_gross"
   ]
  },
  {
   "cell_type": "markdown",
   "metadata": {},
   "source": [
    "Now let's write a for loop to apply this function to every individual genre column in the dataframe."
   ]
  },
  {
   "cell_type": "code",
   "execution_count": 43,
   "metadata": {},
   "outputs": [
    {
     "name": "stderr",
     "output_type": "stream",
     "text": [
      "/opt/anaconda3/envs/learn-env/lib/python3.6/site-packages/ipykernel_launcher.py:13: SettingWithCopyWarning: \n",
      "A value is trying to be set on a copy of a slice from a DataFrame\n",
      "\n",
      "See the caveats in the documentation: https://pandas.pydata.org/pandas-docs/stable/user_guide/indexing.html#returning-a-view-versus-a-copy\n",
      "  del sys.path[0]\n"
     ]
    }
   ],
   "source": [
    "for genre in genres:\n",
    "    dom_gross_df[genre] = calculate_genre_gross(genre)"
   ]
  },
  {
   "cell_type": "markdown",
   "metadata": {},
   "source": [
    "This preview of the updated dataframe shows that the results match our expectations:"
   ]
  },
  {
   "cell_type": "code",
   "execution_count": 44,
   "metadata": {},
   "outputs": [
    {
     "data": {
      "text/html": [
       "<div>\n",
       "<style scoped>\n",
       "    .dataframe tbody tr th:only-of-type {\n",
       "        vertical-align: middle;\n",
       "    }\n",
       "\n",
       "    .dataframe tbody tr th {\n",
       "        vertical-align: top;\n",
       "    }\n",
       "\n",
       "    .dataframe thead th {\n",
       "        text-align: right;\n",
       "    }\n",
       "</style>\n",
       "<table border=\"1\" class=\"dataframe\">\n",
       "  <thead>\n",
       "    <tr style=\"text-align: right;\">\n",
       "      <th></th>\n",
       "      <th>title</th>\n",
       "      <th>domestic_gross</th>\n",
       "      <th>genres</th>\n",
       "      <th>Adventure</th>\n",
       "      <th>Animation</th>\n",
       "      <th>Comedy</th>\n",
       "      <th>Action</th>\n",
       "      <th>Sci-Fi</th>\n",
       "      <th>Drama</th>\n",
       "      <th>Fantasy</th>\n",
       "      <th>...</th>\n",
       "      <th>Horror</th>\n",
       "      <th>Mystery</th>\n",
       "      <th>Western</th>\n",
       "      <th>Crime</th>\n",
       "      <th>Sport</th>\n",
       "      <th>War</th>\n",
       "      <th>Music</th>\n",
       "      <th>Musical</th>\n",
       "      <th>Documentary</th>\n",
       "      <th>News</th>\n",
       "    </tr>\n",
       "  </thead>\n",
       "  <tbody>\n",
       "    <tr>\n",
       "      <th>0</th>\n",
       "      <td>Toy Story 3</td>\n",
       "      <td>415000000.0</td>\n",
       "      <td>[Adventure, Animation, Comedy]</td>\n",
       "      <td>138333333</td>\n",
       "      <td>138333333</td>\n",
       "      <td>138333333</td>\n",
       "      <td>0</td>\n",
       "      <td>0</td>\n",
       "      <td>0</td>\n",
       "      <td>0</td>\n",
       "      <td>...</td>\n",
       "      <td>0</td>\n",
       "      <td>0</td>\n",
       "      <td>0</td>\n",
       "      <td>0</td>\n",
       "      <td>0</td>\n",
       "      <td>0</td>\n",
       "      <td>0</td>\n",
       "      <td>0</td>\n",
       "      <td>0</td>\n",
       "      <td>0</td>\n",
       "    </tr>\n",
       "    <tr>\n",
       "      <th>1</th>\n",
       "      <td>The Twilight Saga: Eclipse</td>\n",
       "      <td>300500000.0</td>\n",
       "      <td>[Adventure, Drama, Fantasy]</td>\n",
       "      <td>100166666</td>\n",
       "      <td>0</td>\n",
       "      <td>0</td>\n",
       "      <td>0</td>\n",
       "      <td>0</td>\n",
       "      <td>100166666</td>\n",
       "      <td>100166666</td>\n",
       "      <td>...</td>\n",
       "      <td>0</td>\n",
       "      <td>0</td>\n",
       "      <td>0</td>\n",
       "      <td>0</td>\n",
       "      <td>0</td>\n",
       "      <td>0</td>\n",
       "      <td>0</td>\n",
       "      <td>0</td>\n",
       "      <td>0</td>\n",
       "      <td>0</td>\n",
       "    </tr>\n",
       "    <tr>\n",
       "      <th>2</th>\n",
       "      <td>Inception</td>\n",
       "      <td>292600000.0</td>\n",
       "      <td>[Action, Adventure, Sci-Fi]</td>\n",
       "      <td>97533333</td>\n",
       "      <td>0</td>\n",
       "      <td>0</td>\n",
       "      <td>97533333</td>\n",
       "      <td>97533333</td>\n",
       "      <td>0</td>\n",
       "      <td>0</td>\n",
       "      <td>...</td>\n",
       "      <td>0</td>\n",
       "      <td>0</td>\n",
       "      <td>0</td>\n",
       "      <td>0</td>\n",
       "      <td>0</td>\n",
       "      <td>0</td>\n",
       "      <td>0</td>\n",
       "      <td>0</td>\n",
       "      <td>0</td>\n",
       "      <td>0</td>\n",
       "    </tr>\n",
       "    <tr>\n",
       "      <th>3</th>\n",
       "      <td>The Hobbit: The Desolation of Smaug</td>\n",
       "      <td>258399999.0</td>\n",
       "      <td>[Adventure, Fantasy]</td>\n",
       "      <td>129199999</td>\n",
       "      <td>0</td>\n",
       "      <td>0</td>\n",
       "      <td>0</td>\n",
       "      <td>0</td>\n",
       "      <td>0</td>\n",
       "      <td>129199999</td>\n",
       "      <td>...</td>\n",
       "      <td>0</td>\n",
       "      <td>0</td>\n",
       "      <td>0</td>\n",
       "      <td>0</td>\n",
       "      <td>0</td>\n",
       "      <td>0</td>\n",
       "      <td>0</td>\n",
       "      <td>0</td>\n",
       "      <td>0</td>\n",
       "      <td>0</td>\n",
       "    </tr>\n",
       "    <tr>\n",
       "      <th>4</th>\n",
       "      <td>The Hangover Part II</td>\n",
       "      <td>254500000.0</td>\n",
       "      <td>[Comedy, Mystery]</td>\n",
       "      <td>0</td>\n",
       "      <td>0</td>\n",
       "      <td>127250000</td>\n",
       "      <td>0</td>\n",
       "      <td>0</td>\n",
       "      <td>0</td>\n",
       "      <td>0</td>\n",
       "      <td>...</td>\n",
       "      <td>0</td>\n",
       "      <td>127250000</td>\n",
       "      <td>0</td>\n",
       "      <td>0</td>\n",
       "      <td>0</td>\n",
       "      <td>0</td>\n",
       "      <td>0</td>\n",
       "      <td>0</td>\n",
       "      <td>0</td>\n",
       "      <td>0</td>\n",
       "    </tr>\n",
       "  </tbody>\n",
       "</table>\n",
       "<p>5 rows × 25 columns</p>\n",
       "</div>"
      ],
      "text/plain": [
       "                                 title  domestic_gross  \\\n",
       "0                          Toy Story 3     415000000.0   \n",
       "1           The Twilight Saga: Eclipse     300500000.0   \n",
       "2                            Inception     292600000.0   \n",
       "3  The Hobbit: The Desolation of Smaug     258399999.0   \n",
       "4                 The Hangover Part II     254500000.0   \n",
       "\n",
       "                           genres  Adventure  Animation     Comedy    Action  \\\n",
       "0  [Adventure, Animation, Comedy]  138333333  138333333  138333333         0   \n",
       "1     [Adventure, Drama, Fantasy]  100166666          0          0         0   \n",
       "2     [Action, Adventure, Sci-Fi]   97533333          0          0  97533333   \n",
       "3            [Adventure, Fantasy]  129199999          0          0         0   \n",
       "4               [Comedy, Mystery]          0          0  127250000         0   \n",
       "\n",
       "     Sci-Fi      Drama    Fantasy  ...  Horror    Mystery  Western  Crime  \\\n",
       "0         0          0          0  ...       0          0        0      0   \n",
       "1         0  100166666  100166666  ...       0          0        0      0   \n",
       "2  97533333          0          0  ...       0          0        0      0   \n",
       "3         0          0  129199999  ...       0          0        0      0   \n",
       "4         0          0          0  ...       0  127250000        0      0   \n",
       "\n",
       "   Sport  War  Music  Musical  Documentary  News  \n",
       "0      0    0      0        0            0     0  \n",
       "1      0    0      0        0            0     0  \n",
       "2      0    0      0        0            0     0  \n",
       "3      0    0      0        0            0     0  \n",
       "4      0    0      0        0            0     0  \n",
       "\n",
       "[5 rows x 25 columns]"
      ]
     },
     "execution_count": 44,
     "metadata": {},
     "output_type": "execute_result"
    }
   ],
   "source": [
    "dom_gross_df.head()"
   ]
  },
  {
   "cell_type": "markdown",
   "metadata": {},
   "source": [
    "Below, we make a dictionary with the sum totals for each genre, and then arrange the sums in descending order:"
   ]
  },
  {
   "cell_type": "code",
   "execution_count": 45,
   "metadata": {},
   "outputs": [],
   "source": [
    "#create and populate dictionary\n",
    "sum_dict = {}\n",
    "for genre in genres:\n",
    "    sum_dict[genre] = sum(dom_gross_df[genre])\n",
    "\n",
    "#sort from highest to lowest sums \n",
    "Total_Gross = dict(sorted(sum_dict.items(), key=operator.itemgetter(1),reverse=True))\n",
    "Total_Gross = pd.DataFrame.from_dict(Total_Gross, orient='index')\n",
    "\n",
    "#set column names for Total Gross df\n",
    "Total_Gross.reset_index(drop=False, inplace=True)\n",
    "Total_Gross.rename(columns={\"index\": \"Genre\", 0: \"Total_Gross\"}, inplace=True)"
   ]
  },
  {
   "cell_type": "code",
   "execution_count": 46,
   "metadata": {},
   "outputs": [
    {
     "data": {
      "image/png": "[encoded data removed]",
      "text/plain": [
       "<Figure size 1080x1080 with 1 Axes>"
      ]
     },
     "metadata": {
      "needs_background": "light"
     },
     "output_type": "display_data"
    }
   ],
   "source": [
    "x = list(Total_Gross['Genre'])\n",
    "y = list(Total_Gross['Total_Gross'])\n",
    "\n",
    "plt.figure(figsize = (15,15))\n",
    "\n",
    "plt.barh(x, y, color = 'midnightblue', edgecolor='0.2')\n",
    "\n",
    "plt.xlabel('Total Gross (hundred million USD)', fontsize=25, fontname='Silom')\n",
    "plt.ylabel('Genres', fontsize=25, fontname='Silom')\n",
    "plt.xticks(fontsize=20, fontname='Silom')\n",
    "plt.yticks(fontsize=22, fontname='Silom')\n",
    "plt.title('Total Domestic Gross by Genre', fontsize=35, fontname='Silom')\n",
    "\n",
    "#display the plot\n",
    "plt.show()\n"
   ]
  },
  {
   "cell_type": "markdown",
   "metadata": {},
   "source": [
    "This graph looks quite similar to the graph of genre frequencies. This makes sense: genres that are more common would be expected to have gross higher sums than rare genres. In this graph, however, comedy beats drama and adventure beats action. Mystery, sci-fi, and fantasy have all moved up to one of the top positions in the graph! These differences can be explained by differences in average gross values, which we’ll take a look at now."
   ]
  },
  {
   "cell_type": "markdown",
   "metadata": {},
   "source": [
    "To calculate the averages, we'll \"explode\" the domestic gross data frame, which will turn each genre in each list under “genres” into a distinct row, and hold all other row values constant. Then, we'll group the data by genres and call the “describe” function to generate descriptive statistics for the domestic gross column. Finally, we'll  filter the data to include only the mean values and genres, and ordered it from the highest to lowest means:"
   ]
  },
  {
   "cell_type": "code",
   "execution_count": 47,
   "metadata": {},
   "outputs": [],
   "source": [
    "Avg_Gross_exploded = dom_gross_df.explode('genres')\n",
    "Avg_Gross_grouped = Avg_Gross_exploded.groupby('genres').describe()['domestic_gross']"
   ]
  },
  {
   "cell_type": "code",
   "execution_count": 48,
   "metadata": {},
   "outputs": [
    {
     "data": {
      "text/html": [
       "<div>\n",
       "<style scoped>\n",
       "    .dataframe tbody tr th:only-of-type {\n",
       "        vertical-align: middle;\n",
       "    }\n",
       "\n",
       "    .dataframe tbody tr th {\n",
       "        vertical-align: top;\n",
       "    }\n",
       "\n",
       "    .dataframe thead th {\n",
       "        text-align: right;\n",
       "    }\n",
       "</style>\n",
       "<table border=\"1\" class=\"dataframe\">\n",
       "  <thead>\n",
       "    <tr style=\"text-align: right;\">\n",
       "      <th></th>\n",
       "      <th>genres</th>\n",
       "      <th>count</th>\n",
       "      <th>mean</th>\n",
       "    </tr>\n",
       "  </thead>\n",
       "  <tbody>\n",
       "    <tr>\n",
       "      <th>0</th>\n",
       "      <td>Adventure</td>\n",
       "      <td>47.0</td>\n",
       "      <td>7.833881e+07</td>\n",
       "    </tr>\n",
       "    <tr>\n",
       "      <th>1</th>\n",
       "      <td>Animation</td>\n",
       "      <td>19.0</td>\n",
       "      <td>5.711614e+07</td>\n",
       "    </tr>\n",
       "    <tr>\n",
       "      <th>2</th>\n",
       "      <td>Sci-Fi</td>\n",
       "      <td>26.0</td>\n",
       "      <td>5.558522e+07</td>\n",
       "    </tr>\n",
       "    <tr>\n",
       "      <th>3</th>\n",
       "      <td>Family</td>\n",
       "      <td>22.0</td>\n",
       "      <td>5.311770e+07</td>\n",
       "    </tr>\n",
       "    <tr>\n",
       "      <th>4</th>\n",
       "      <td>Comedy</td>\n",
       "      <td>74.0</td>\n",
       "      <td>4.953362e+07</td>\n",
       "    </tr>\n",
       "    <tr>\n",
       "      <th>5</th>\n",
       "      <td>Action</td>\n",
       "      <td>67.0</td>\n",
       "      <td>4.850222e+07</td>\n",
       "    </tr>\n",
       "    <tr>\n",
       "      <th>6</th>\n",
       "      <td>Western</td>\n",
       "      <td>8.0</td>\n",
       "      <td>4.808139e+07</td>\n",
       "    </tr>\n",
       "    <tr>\n",
       "      <th>7</th>\n",
       "      <td>Mystery</td>\n",
       "      <td>33.0</td>\n",
       "      <td>4.360373e+07</td>\n",
       "    </tr>\n",
       "    <tr>\n",
       "      <th>8</th>\n",
       "      <td>Fantasy</td>\n",
       "      <td>33.0</td>\n",
       "      <td>4.150895e+07</td>\n",
       "    </tr>\n",
       "    <tr>\n",
       "      <th>9</th>\n",
       "      <td>Music</td>\n",
       "      <td>16.0</td>\n",
       "      <td>3.593779e+07</td>\n",
       "    </tr>\n",
       "    <tr>\n",
       "      <th>10</th>\n",
       "      <td>Drama</td>\n",
       "      <td>105.0</td>\n",
       "      <td>3.539688e+07</td>\n",
       "    </tr>\n",
       "    <tr>\n",
       "      <th>11</th>\n",
       "      <td>Biography</td>\n",
       "      <td>30.0</td>\n",
       "      <td>3.487568e+07</td>\n",
       "    </tr>\n",
       "    <tr>\n",
       "      <th>12</th>\n",
       "      <td>Musical</td>\n",
       "      <td>7.0</td>\n",
       "      <td>3.094481e+07</td>\n",
       "    </tr>\n",
       "    <tr>\n",
       "      <th>13</th>\n",
       "      <td>Romance</td>\n",
       "      <td>35.0</td>\n",
       "      <td>2.948304e+07</td>\n",
       "    </tr>\n",
       "    <tr>\n",
       "      <th>14</th>\n",
       "      <td>Thriller</td>\n",
       "      <td>41.0</td>\n",
       "      <td>2.917752e+07</td>\n",
       "    </tr>\n",
       "    <tr>\n",
       "      <th>15</th>\n",
       "      <td>Horror</td>\n",
       "      <td>29.0</td>\n",
       "      <td>2.852300e+07</td>\n",
       "    </tr>\n",
       "    <tr>\n",
       "      <th>16</th>\n",
       "      <td>Sport</td>\n",
       "      <td>12.0</td>\n",
       "      <td>2.375275e+07</td>\n",
       "    </tr>\n",
       "    <tr>\n",
       "      <th>17</th>\n",
       "      <td>War</td>\n",
       "      <td>8.0</td>\n",
       "      <td>2.266894e+07</td>\n",
       "    </tr>\n",
       "    <tr>\n",
       "      <th>18</th>\n",
       "      <td>History</td>\n",
       "      <td>18.0</td>\n",
       "      <td>2.038889e+07</td>\n",
       "    </tr>\n",
       "    <tr>\n",
       "      <th>19</th>\n",
       "      <td>Crime</td>\n",
       "      <td>37.0</td>\n",
       "      <td>1.837006e+07</td>\n",
       "    </tr>\n",
       "    <tr>\n",
       "      <th>20</th>\n",
       "      <td>Documentary</td>\n",
       "      <td>30.0</td>\n",
       "      <td>6.917660e+06</td>\n",
       "    </tr>\n",
       "    <tr>\n",
       "      <th>21</th>\n",
       "      <td>News</td>\n",
       "      <td>1.0</td>\n",
       "      <td>1.320000e+04</td>\n",
       "    </tr>\n",
       "  </tbody>\n",
       "</table>\n",
       "</div>"
      ],
      "text/plain": [
       "         genres  count          mean\n",
       "0     Adventure   47.0  7.833881e+07\n",
       "1     Animation   19.0  5.711614e+07\n",
       "2        Sci-Fi   26.0  5.558522e+07\n",
       "3        Family   22.0  5.311770e+07\n",
       "4        Comedy   74.0  4.953362e+07\n",
       "5        Action   67.0  4.850222e+07\n",
       "6       Western    8.0  4.808139e+07\n",
       "7       Mystery   33.0  4.360373e+07\n",
       "8       Fantasy   33.0  4.150895e+07\n",
       "9         Music   16.0  3.593779e+07\n",
       "10        Drama  105.0  3.539688e+07\n",
       "11    Biography   30.0  3.487568e+07\n",
       "12      Musical    7.0  3.094481e+07\n",
       "13      Romance   35.0  2.948304e+07\n",
       "14     Thriller   41.0  2.917752e+07\n",
       "15       Horror   29.0  2.852300e+07\n",
       "16        Sport   12.0  2.375275e+07\n",
       "17          War    8.0  2.266894e+07\n",
       "18      History   18.0  2.038889e+07\n",
       "19        Crime   37.0  1.837006e+07\n",
       "20  Documentary   30.0  6.917660e+06\n",
       "21         News    1.0  1.320000e+04"
      ]
     },
     "execution_count": 48,
     "metadata": {},
     "output_type": "execute_result"
    }
   ],
   "source": [
    "q = \"\"\"select genres, count, mean from Avg_Gross_grouped order by mean DESC;\"\"\"\n",
    "Avg_Gross_df = pysqldf(q)\n",
    "Avg_Gross_df"
   ]
  },
  {
   "cell_type": "code",
   "execution_count": 49,
   "metadata": {},
   "outputs": [
    {
     "name": "stderr",
     "output_type": "stream",
     "text": [
      "/opt/anaconda3/envs/learn-env/lib/python3.6/site-packages/statsmodels/tools/_testing.py:19: FutureWarning: pandas.util.testing is deprecated. Use the functions in the public API at pandas.testing instead.\n",
      "  import pandas.util.testing as tm\n"
     ]
    },
    {
     "data": {
      "text/plain": [
       "Text(0.5, 1.0, 'Gross Values by Genre')"
      ]
     },
     "execution_count": 49,
     "metadata": {},
     "output_type": "execute_result"
    },
    {
     "data": {
      "image/png": "[encoded data removed]",
      "text/plain": [
       "<Figure size 1800x504 with 1 Axes>"
      ]
     },
     "metadata": {
      "needs_background": "light"
     },
     "output_type": "display_data"
    }
   ],
   "source": [
    "import seaborn as sns\n",
    "\n",
    "#set figure properties\n",
    "plt.figure(figsize=(25,7))\n",
    "sns.set_style(\"whitegrid\")\n",
    "plt.rcParams['axes.facecolor'] = 'lavender'\n",
    "\n",
    "#create color range for markers\n",
    "cmap = sns.cubehelix_palette(start=1, light=.9, as_cmap=True)\n",
    "\n",
    "#plot average gross values, with size and hue varying by total values\n",
    "ax = sns.scatterplot(x=\"genres\", y=\"mean\",\n",
    "                     hue=\"count\", palette=cmap, data=Avg_Gross_df, s=1500) \n",
    "\n",
    "#set properties for ticks and labels\n",
    "plt.xticks(fontsize=10, fontname='Silom')\n",
    "plt.yticks(fontsize=15, fontname='Silom')\n",
    "plt.xlabel('Genres', fontsize=20, fontname='Silom')\n",
    "plt.ylabel('Average Gross (ten million USD)', fontsize=20, fontname='Silom')\n",
    "plt.title('Gross Values by Genre', fontsize=35, fontname='Silom')"
   ]
  },
  {
   "cell_type": "markdown",
   "metadata": {},
   "source": [
    "Animation, sci-fi and family were not among the most common genres. However, next to adventure, these are top-performing genres in terms of their average gross value. Western also stands out as being a very rare genre that nonetheless has a relatively high position on the y-axis. \n",
    "\n",
    "What if we're interested in comparing average and total gross values for only the top-grossing genres? Using <code>pysqldf</code>, let's subset the data into the top 5 genres and plot those. "
   ]
  },
  {
   "cell_type": "code",
   "execution_count": 50,
   "metadata": {
    "scrolled": false
   },
   "outputs": [
    {
     "data": {
      "text/html": [
       "<div>\n",
       "<style scoped>\n",
       "    .dataframe tbody tr th:only-of-type {\n",
       "        vertical-align: middle;\n",
       "    }\n",
       "\n",
       "    .dataframe tbody tr th {\n",
       "        vertical-align: top;\n",
       "    }\n",
       "\n",
       "    .dataframe thead th {\n",
       "        text-align: right;\n",
       "    }\n",
       "</style>\n",
       "<table border=\"1\" class=\"dataframe\">\n",
       "  <thead>\n",
       "    <tr style=\"text-align: right;\">\n",
       "      <th></th>\n",
       "      <th>genres</th>\n",
       "      <th>mean</th>\n",
       "    </tr>\n",
       "  </thead>\n",
       "  <tbody>\n",
       "    <tr>\n",
       "      <th>0</th>\n",
       "      <td>Adventure</td>\n",
       "      <td>7.833881e+07</td>\n",
       "    </tr>\n",
       "    <tr>\n",
       "      <th>1</th>\n",
       "      <td>Animation</td>\n",
       "      <td>5.711614e+07</td>\n",
       "    </tr>\n",
       "    <tr>\n",
       "      <th>2</th>\n",
       "      <td>Sci-Fi</td>\n",
       "      <td>5.558522e+07</td>\n",
       "    </tr>\n",
       "    <tr>\n",
       "      <th>3</th>\n",
       "      <td>Family</td>\n",
       "      <td>5.311770e+07</td>\n",
       "    </tr>\n",
       "    <tr>\n",
       "      <th>4</th>\n",
       "      <td>Comedy</td>\n",
       "      <td>4.953362e+07</td>\n",
       "    </tr>\n",
       "  </tbody>\n",
       "</table>\n",
       "</div>"
      ],
      "text/plain": [
       "      genres          mean\n",
       "0  Adventure  7.833881e+07\n",
       "1  Animation  5.711614e+07\n",
       "2     Sci-Fi  5.558522e+07\n",
       "3     Family  5.311770e+07\n",
       "4     Comedy  4.953362e+07"
      ]
     },
     "metadata": {},
     "output_type": "display_data"
    },
    {
     "data": {
      "text/html": [
       "<div>\n",
       "<style scoped>\n",
       "    .dataframe tbody tr th:only-of-type {\n",
       "        vertical-align: middle;\n",
       "    }\n",
       "\n",
       "    .dataframe tbody tr th {\n",
       "        vertical-align: top;\n",
       "    }\n",
       "\n",
       "    .dataframe thead th {\n",
       "        text-align: right;\n",
       "    }\n",
       "</style>\n",
       "<table border=\"1\" class=\"dataframe\">\n",
       "  <thead>\n",
       "    <tr style=\"text-align: right;\">\n",
       "      <th></th>\n",
       "      <th>Genre</th>\n",
       "      <th>Total_Gross</th>\n",
       "    </tr>\n",
       "  </thead>\n",
       "  <tbody>\n",
       "    <tr>\n",
       "      <th>0</th>\n",
       "      <td>Comedy</td>\n",
       "      <td>1497329313</td>\n",
       "    </tr>\n",
       "    <tr>\n",
       "      <th>1</th>\n",
       "      <td>Drama</td>\n",
       "      <td>1359535655</td>\n",
       "    </tr>\n",
       "    <tr>\n",
       "      <th>2</th>\n",
       "      <td>Adventure</td>\n",
       "      <td>1289789335</td>\n",
       "    </tr>\n",
       "    <tr>\n",
       "      <th>3</th>\n",
       "      <td>Action</td>\n",
       "      <td>1121966898</td>\n",
       "    </tr>\n",
       "    <tr>\n",
       "      <th>4</th>\n",
       "      <td>Mystery</td>\n",
       "      <td>550951725</td>\n",
       "    </tr>\n",
       "  </tbody>\n",
       "</table>\n",
       "</div>"
      ],
      "text/plain": [
       "       Genre  Total_Gross\n",
       "0     Comedy   1497329313\n",
       "1      Drama   1359535655\n",
       "2  Adventure   1289789335\n",
       "3     Action   1121966898\n",
       "4    Mystery    550951725"
      ]
     },
     "metadata": {},
     "output_type": "display_data"
    }
   ],
   "source": [
    "q = \"\"\"select genres, mean from Avg_Gross_df DESC limit 5;\"\"\"\n",
    "Top_Avg = pysqldf(q)\n",
    "\n",
    "q = \"\"\"select Genre, Total_Gross from Total_Gross limit 5;\"\"\"\n",
    "Top_Total = pysqldf(q)\n",
    "\n",
    "display(Top_Avg, Top_Total)"
   ]
  },
  {
   "cell_type": "code",
   "execution_count": 51,
   "metadata": {},
   "outputs": [
    {
     "data": {
      "text/plain": [
       "Text(0, 0.5, 'Average Gross (hundred millions)')"
      ]
     },
     "execution_count": 51,
     "metadata": {},
     "output_type": "execute_result"
    },
    {
     "data": {
      "image/png": "[encoded data removed]",
      "text/plain": [
       "<Figure size 1152x432 with 2 Axes>"
      ]
     },
     "metadata": {},
     "output_type": "display_data"
    }
   ],
   "source": [
    "#create 2 subplots in a 1x2 figure\n",
    "fig, axes = plt.subplots(nrows=1,ncols=2,figsize=(16,6))\n",
    "\n",
    "#set figure title\n",
    "plt.figtext(.5,.99, 'Top Grossing Movie Genres', fontsize=25, fontname='silom', ha='center')\n",
    "\n",
    "#plot data over the axes\n",
    "Top_Avg.plot(ax = axes[0],subplots=True, fontsize = 15, kind='bar', x='genres', y='mean', colormap='magma') \n",
    "Top_Total.plot(ax = axes[1],subplots=True, fontsize = 15, kind='bar', x='Genre', y='Total_Gross', colormap='magma')\n",
    "\n",
    "#set titles and labels for subplots\n",
    "plt.rcParams['axes.facecolor'] = 'lavender'\n",
    "axes[0].set_title(\"Average Gross\", fontname='serif', fontsize=20)\n",
    "axes[0].set_xlabel(\"Genre\", fontsize=16, fontname='serif')\n",
    "axes[0].set_ylabel(\"Average Gross (ten millions)\", fontsize=15, fontname='serif')\n",
    "\n",
    "axes[1].set_title(\"Total Gross\", fontname='serif', fontsize=20)\n",
    "axes[1].set_xlabel(\"Genre\", fontsize=16, fontname='serif')\n",
    "axes[1].set_ylabel(\"Average Gross (hundred millions)\", fontsize=15, fontname='serif')"
   ]
  },
  {
   "cell_type": "markdown",
   "metadata": {},
   "source": [
    "Looking at the graphs for the top 5 genres, we can see that adventure, animation, and sci-fi have the highest average gross values. Based on the genre frequency bar chart from the first question, we know that drama is among the most common genres, but it doesn't have a competitive average gross value. Its high total value is therefore attributable to its prevalence in the film industry. "
   ]
  },
  {
   "cell_type": "markdown",
   "metadata": {},
   "source": [
    "## Question 3: what is the ideal range for movie runtimes, in terms of profitability?\n",
    "For our final question, we'll first make a subsetted dataframe with the movie runtimes and order the data from highest to lowest gross values. We'll filter out movies that aren't at least an hour long to focus on the performance of full-length films."
   ]
  },
  {
   "cell_type": "code",
   "execution_count": 52,
   "metadata": {},
   "outputs": [
    {
     "data": {
      "text/html": [
       "<div>\n",
       "<style scoped>\n",
       "    .dataframe tbody tr th:only-of-type {\n",
       "        vertical-align: middle;\n",
       "    }\n",
       "\n",
       "    .dataframe tbody tr th {\n",
       "        vertical-align: top;\n",
       "    }\n",
       "\n",
       "    .dataframe thead th {\n",
       "        text-align: right;\n",
       "    }\n",
       "</style>\n",
       "<table border=\"1\" class=\"dataframe\">\n",
       "  <thead>\n",
       "    <tr style=\"text-align: right;\">\n",
       "      <th></th>\n",
       "      <th>title</th>\n",
       "      <th>runtime_minutes</th>\n",
       "      <th>domestic_gross</th>\n",
       "      <th>genres</th>\n",
       "    </tr>\n",
       "  </thead>\n",
       "  <tbody>\n",
       "    <tr>\n",
       "      <th>0</th>\n",
       "      <td>Black Panther</td>\n",
       "      <td>134.0</td>\n",
       "      <td>700100000.0</td>\n",
       "      <td>Action,Adventure,Sci-Fi</td>\n",
       "    </tr>\n",
       "    <tr>\n",
       "      <th>1</th>\n",
       "      <td>Avengers: Infinity War</td>\n",
       "      <td>149.0</td>\n",
       "      <td>678800000.0</td>\n",
       "      <td>Action,Adventure,Sci-Fi</td>\n",
       "    </tr>\n",
       "    <tr>\n",
       "      <th>2</th>\n",
       "      <td>Jurassic World</td>\n",
       "      <td>124.0</td>\n",
       "      <td>652300000.0</td>\n",
       "      <td>Action,Adventure,Sci-Fi</td>\n",
       "    </tr>\n",
       "    <tr>\n",
       "      <th>3</th>\n",
       "      <td>Star Wars: The Last Jedi</td>\n",
       "      <td>152.0</td>\n",
       "      <td>620200000.0</td>\n",
       "      <td>Action,Adventure,Fantasy</td>\n",
       "    </tr>\n",
       "    <tr>\n",
       "      <th>4</th>\n",
       "      <td>Incredibles 2</td>\n",
       "      <td>118.0</td>\n",
       "      <td>608600000.0</td>\n",
       "      <td>Action,Adventure,Animation</td>\n",
       "    </tr>\n",
       "    <tr>\n",
       "      <th>...</th>\n",
       "      <td>...</td>\n",
       "      <td>...</td>\n",
       "      <td>...</td>\n",
       "      <td>...</td>\n",
       "    </tr>\n",
       "    <tr>\n",
       "      <th>1832</th>\n",
       "      <td>Khumba</td>\n",
       "      <td>85.0</td>\n",
       "      <td>1000.0</td>\n",
       "      <td>Adventure,Animation,Family</td>\n",
       "    </tr>\n",
       "    <tr>\n",
       "      <th>1833</th>\n",
       "      <td>I Spit on Your Grave 2</td>\n",
       "      <td>106.0</td>\n",
       "      <td>800.0</td>\n",
       "      <td>Horror,Thriller</td>\n",
       "    </tr>\n",
       "    <tr>\n",
       "      <th>1834</th>\n",
       "      <td>Amityville: The Awakening</td>\n",
       "      <td>85.0</td>\n",
       "      <td>700.0</td>\n",
       "      <td>Horror,Thriller</td>\n",
       "    </tr>\n",
       "    <tr>\n",
       "      <th>1835</th>\n",
       "      <td>2:22</td>\n",
       "      <td>98.0</td>\n",
       "      <td>400.0</td>\n",
       "      <td>Thriller</td>\n",
       "    </tr>\n",
       "    <tr>\n",
       "      <th>1836</th>\n",
       "      <td>Satanic</td>\n",
       "      <td>85.0</td>\n",
       "      <td>300.0</td>\n",
       "      <td>Horror</td>\n",
       "    </tr>\n",
       "  </tbody>\n",
       "</table>\n",
       "<p>1837 rows × 4 columns</p>\n",
       "</div>"
      ],
      "text/plain": [
       "                          title  runtime_minutes  domestic_gross  \\\n",
       "0                 Black Panther            134.0     700100000.0   \n",
       "1        Avengers: Infinity War            149.0     678800000.0   \n",
       "2                Jurassic World            124.0     652300000.0   \n",
       "3      Star Wars: The Last Jedi            152.0     620200000.0   \n",
       "4                 Incredibles 2            118.0     608600000.0   \n",
       "...                         ...              ...             ...   \n",
       "1832                     Khumba             85.0          1000.0   \n",
       "1833     I Spit on Your Grave 2            106.0           800.0   \n",
       "1834  Amityville: The Awakening             85.0           700.0   \n",
       "1835                       2:22             98.0           400.0   \n",
       "1836                    Satanic             85.0           300.0   \n",
       "\n",
       "                          genres  \n",
       "0        Action,Adventure,Sci-Fi  \n",
       "1        Action,Adventure,Sci-Fi  \n",
       "2        Action,Adventure,Sci-Fi  \n",
       "3       Action,Adventure,Fantasy  \n",
       "4     Action,Adventure,Animation  \n",
       "...                          ...  \n",
       "1832  Adventure,Animation,Family  \n",
       "1833             Horror,Thriller  \n",
       "1834             Horror,Thriller  \n",
       "1835                    Thriller  \n",
       "1836                      Horror  \n",
       "\n",
       "[1837 rows x 4 columns]"
      ]
     },
     "execution_count": 52,
     "metadata": {},
     "output_type": "execute_result"
    }
   ],
   "source": [
    "    q = '''select title, runtime_minutes, domestic_gross, genres from IMBD_df where runtime_minutes >= 60\n",
    "           order by domestic_gross desc;'''\n",
    "    runtime_df = pd.DataFrame(pysqldf(q))\n",
    "runtime_df"
   ]
  },
  {
   "cell_type": "markdown",
   "metadata": {},
   "source": [
    "Now we'll make a linear model plot of the data, with runtime on the x-axis and gross on the y-axis. We'll set <code>fit_reg=True</code>, which will plot an estimated regression model over the datapoints. "
   ]
  },
  {
   "cell_type": "code",
   "execution_count": 53,
   "metadata": {},
   "outputs": [
    {
     "data": {
      "text/plain": [
       "Text(0.5, 1, 'Runtimes and Gross Values')"
      ]
     },
     "execution_count": 53,
     "metadata": {},
     "output_type": "execute_result"
    },
    {
     "data": {
      "text/plain": [
       "<Figure size 1080x1440 with 0 Axes>"
      ]
     },
     "metadata": {},
     "output_type": "display_data"
    },
    {
     "data": {
      "image/png": "[encoded data removed]",
      "text/plain": [
       "<Figure size 504x504 with 1 Axes>"
      ]
     },
     "metadata": {},
     "output_type": "display_data"
    }
   ],
   "source": [
    "#set figure properties\n",
    "sns.set_style(\"white\")\n",
    "plt.figure(figsize=(15,20))\n",
    "\n",
    "plt.rcParams['axes.facecolor'] = 'lavender'\n",
    "#plot runtime data\n",
    "sns.lmplot(data=runtime_df, x=\"runtime_minutes\", y=\"domestic_gross\",\n",
    "                   fit_reg=True, line_kws={'color': 'red'}, height=7,aspect=1, legend=True)\n",
    "\n",
    "#set ticks, labels, and title \n",
    "plt.xticks(fontsize=10, fontname='Silom')\n",
    "plt.yticks(fontsize=15, fontname='Silom')\n",
    "plt.xlabel('Runtime (minutes)', fontsize=15, fontname='Silom')\n",
    "plt.ylabel('Domestic Gross (hundred million USD)', fontsize=15, fontname='Silom')\n",
    "plt.title('Runtimes and Gross Values', fontsize=20, fontname='Silom')"
   ]
  },
  {
   "cell_type": "markdown",
   "metadata": {},
   "source": [
    "The regression line makes it clear that the vast majority of films do not gross more than a hundred million USD. However, the few films that gross well above this amount appear to fall within the range of 100-150 minutes. Let's get the exact numbers on the distribution with the help of the <b>Numpy</b> module."
   ]
  },
  {
   "cell_type": "code",
   "execution_count": 54,
   "metadata": {},
   "outputs": [],
   "source": [
    "import numpy as np\n",
    "rt = runtime_df['runtime_minutes'] "
   ]
  },
  {
   "cell_type": "markdown",
   "metadata": {},
   "source": [
    "What are the minimum and maximum runtimes? "
   ]
  },
  {
   "cell_type": "code",
   "execution_count": 55,
   "metadata": {},
   "outputs": [
    {
     "data": {
      "text/plain": [
       "60.0"
      ]
     },
     "execution_count": 55,
     "metadata": {},
     "output_type": "execute_result"
    }
   ],
   "source": [
    "np.min(rt)"
   ]
  },
  {
   "cell_type": "code",
   "execution_count": 56,
   "metadata": {},
   "outputs": [
    {
     "data": {
      "text/plain": [
       "189.0"
      ]
     },
     "execution_count": 56,
     "metadata": {},
     "output_type": "execute_result"
    }
   ],
   "source": [
    "np.max(rt)"
   ]
  },
  {
   "cell_type": "markdown",
   "metadata": {},
   "source": [
    "What are the mean and median runtimes?"
   ]
  },
  {
   "cell_type": "code",
   "execution_count": 57,
   "metadata": {},
   "outputs": [
    {
     "data": {
      "text/plain": [
       "110.97713663581926"
      ]
     },
     "execution_count": 57,
     "metadata": {},
     "output_type": "execute_result"
    }
   ],
   "source": [
    "np.mean(rt)"
   ]
  },
  {
   "cell_type": "code",
   "execution_count": 58,
   "metadata": {},
   "outputs": [
    {
     "data": {
      "text/plain": [
       "107.0"
      ]
     },
     "execution_count": 58,
     "metadata": {},
     "output_type": "execute_result"
    }
   ],
   "source": [
    "np.median(rt)"
   ]
  },
  {
   "cell_type": "markdown",
   "metadata": {},
   "source": [
    "What values are are the 25th and 75th percentile? This will give us a range of numbers between which the majority of the runtime data falls."
   ]
  },
  {
   "cell_type": "code",
   "execution_count": 59,
   "metadata": {},
   "outputs": [
    {
     "data": {
      "text/plain": [
       "array([ 97., 122.])"
      ]
     },
     "execution_count": 59,
     "metadata": {},
     "output_type": "execute_result"
    }
   ],
   "source": [
    "np.percentile(rt, [25, 75])"
   ]
  },
  {
   "cell_type": "markdown",
   "metadata": {},
   "source": [
    "We'll now get these same numbers for the top 50 highest-grossing movies!"
   ]
  },
  {
   "cell_type": "code",
   "execution_count": 60,
   "metadata": {},
   "outputs": [],
   "source": [
    "q = \"\"\"select * from runtime_df order by domestic_gross DESC limit 50;\"\"\"\n",
    "top_gross_runtime = pd.DataFrame(pysqldf(q))\n",
    "top_rt = top_gross_runtime['runtime_minutes']"
   ]
  },
  {
   "cell_type": "code",
   "execution_count": 61,
   "metadata": {},
   "outputs": [
    {
     "data": {
      "text/plain": [
       "87.0"
      ]
     },
     "execution_count": 61,
     "metadata": {},
     "output_type": "execute_result"
    }
   ],
   "source": [
    "np.min(top_rt)"
   ]
  },
  {
   "cell_type": "code",
   "execution_count": 62,
   "metadata": {},
   "outputs": [
    {
     "data": {
      "text/plain": [
       "169.0"
      ]
     },
     "execution_count": 62,
     "metadata": {},
     "output_type": "execute_result"
    }
   ],
   "source": [
    "np.max(top_rt)"
   ]
  },
  {
   "cell_type": "code",
   "execution_count": 63,
   "metadata": {},
   "outputs": [
    {
     "data": {
      "text/plain": [
       "126.94"
      ]
     },
     "execution_count": 63,
     "metadata": {},
     "output_type": "execute_result"
    }
   ],
   "source": [
    "np.mean(top_rt)"
   ]
  },
  {
   "cell_type": "code",
   "execution_count": 64,
   "metadata": {},
   "outputs": [
    {
     "data": {
      "text/plain": [
       "131.5"
      ]
     },
     "execution_count": 64,
     "metadata": {},
     "output_type": "execute_result"
    }
   ],
   "source": [
    "np.median(top_rt)"
   ]
  },
  {
   "cell_type": "code",
   "execution_count": 65,
   "metadata": {},
   "outputs": [
    {
     "data": {
      "text/plain": [
       "array([110.5 , 141.75])"
      ]
     },
     "execution_count": 65,
     "metadata": {},
     "output_type": "execute_result"
    }
   ],
   "source": [
    "np.percentile(top_rt, [25, 75])"
   ]
  },
  {
   "cell_type": "markdown",
   "metadata": {},
   "source": [
    "It appears that high-grossing movies tend to run longer than movies in general. We can visually compare these distributions with juxtaposed boxplots."
   ]
  },
  {
   "cell_type": "code",
   "execution_count": 66,
   "metadata": {},
   "outputs": [
    {
     "data": {
      "text/plain": [
       "Text(0.5, 0, '')"
      ]
     },
     "execution_count": 66,
     "metadata": {},
     "output_type": "execute_result"
    },
    {
     "data": {
      "image/png": "[encoded data removed]",
      "text/plain": [
       "<Figure size 1296x432 with 2 Axes>"
      ]
     },
     "metadata": {},
     "output_type": "display_data"
    }
   ],
   "source": [
    "#set figure properties\n",
    "fig, axes = plt.subplots(nrows=1,ncols=2,figsize=(18,6))\n",
    "plt.figtext(.5,.99, 'Distribution of Movie Runtimes', fontsize=25, fontname='silom', ha='center')\n",
    "plt.rcParams['axes.facecolor'] = 'lavender'\n",
    "plt.ylim(5, 180)\n",
    "fig.text(0.06, 0.5, 'Runtime in minutes', va='center', rotation='vertical',fontsize=20, fontname='serif')\n",
    "\n",
    "#set subplot properties\n",
    "colors = dict(boxes=\"darkcyan\", whiskers=\"darkorange\", medians=\"red\", caps=\"teal\")\n",
    "runtime_df.plot(ax = axes[0],subplots=True, fontsize = 15, \n",
    "                kind='box', y= 'runtime_minutes', color=colors, patch_artist=True) \n",
    "\n",
    "top_gross_runtime.plot(ax = axes[1],subplots=True, fontsize = 15, \n",
    "                       kind='box', y= 'runtime_minutes', color=colors, patch_artist=True)\n",
    "\n",
    "\n",
    "axes[0].set_title(\"All Movies\", fontname='serif', fontsize=20)\n",
    "axes[1].set_title(\"Top 50 Highest-Grossing Movies\", fontname='serif', fontsize=20)\n",
    "axes[0].set_xlabel('')\n",
    "axes[1].set_xlabel('')\n",
    "\n",
    "\n",
    "\n",
    "\n"
   ]
  },
  {
   "cell_type": "markdown",
   "metadata": {},
   "source": [
    "These plots make it visually apparent that the highest-grossing films have relatively high runtimes compared to the average film. None of these high-grossing films, however, exceed 170 minutes."
   ]
  },
  {
   "cell_type": "markdown",
   "metadata": {},
   "source": [
    "# Recommendations Recap "
   ]
  },
  {
   "cell_type": "markdown",
   "metadata": {},
   "source": [
    "### Genres\n",
    "\n",
    "Microsoft should create adventure, comedy, sci-fi and western films. Adventure and comedy films are both in the top 5 highest-grossing genres, in terms of both average and total gross numbers. Western and sci-fi films are more rare, but have highly competitive average gross values. \n",
    "\n",
    "### Content Ratings\n",
    "\n",
    "The most well-reviewed films have either no rating or a G-Rating. Microsoft should make unrated and G-rated movies.\n",
    "\n",
    "### Runtimes\n",
    "\n",
    "Microsoft’s ideal runtime range is between 110 and 140 minutes. The average runtime for the highest-grossing films is just over 2 hours, which suggests that this may be the “sweet spot” for many audiences."
   ]
  },
  {
   "cell_type": "markdown",
   "metadata": {},
   "source": [
    "# References"
   ]
  },
  {
   "cell_type": "markdown",
   "metadata": {},
   "source": [
    "[Visualization with Pandas dataframes](https://pandas.pydata.org/pandas-docs/stable/user_guide/visualization.html)\n",
    "\n",
    "[Seaborn plotting with Categorical Data](https://seaborn.pydata.org/tutorial/categorical.html)\n",
    "\n",
    "[Pysqldf](https://pypi.org/project/pysqldf/)\n",
    "\n",
    "[Maplotlib.pyplot.subplots](https://matplotlib.org/3.2.1/api/_as_gen/matplotlib.pyplot.subplots.html)"
   ]
  }
 ],
 "metadata": {
  "kernelspec": {
   "display_name": "Python 3",
   "language": "python",
   "name": "python3"
  },
  "language_info": {
   "codemirror_mode": {
    "name": "ipython",
    "version": 3
   },
   "file_extension": ".py",
   "mimetype": "text/x-python",
   "name": "python",
   "nbconvert_exporter": "python",
   "pygments_lexer": "ipython3",
   "version": "3.6.9"
  }
 },
 "nbformat": 4,
 "nbformat_minor": 2
}
